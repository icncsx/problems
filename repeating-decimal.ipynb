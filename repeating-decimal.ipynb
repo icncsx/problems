{
 "cells": [
  {
   "cell_type": "code",
   "execution_count": null,
   "id": "67dc2a70",
   "metadata": {},
   "outputs": [],
   "source": [
    "def repeating_decimal(numerator: int, denominator: int) -> bool:\n",
    "    # assume denominator is non-zero\n",
    "    \n",
    "    \"\"\"\n",
    "    dividend = 20\n",
    "    divisor = 4\n",
    "    quotient = 5\n",
    "    \"\"\"\n",
    "    \n",
    "    if (numerator/denominator) >= 0:\n",
    "        before_the_decimal = str(numerator // denominator)\n",
    "    else:\n",
    "        before_the_decimal = str(int(numerator/denominator))\n",
    "        \n",
    "    quotients = []\n",
    "    remainders_seen = {}\n",
    "    repeat_idx = None\n",
    "    \n",
    "    remainder = numerator % denominator\n",
    "    \n",
    "#     is_divisible = False\n",
    "    while True:\n",
    "        if remainder not in remainders_seen:\n",
    "            remainders_seen[remainder] = len(quotients)\n",
    "            # { 3 : 0}\n",
    "        else:\n",
    "#             if remainder == 0:\n",
    "#                 is_divisible = True\n",
    "            repeat_idx = remainders_seen[remainder]\n",
    "            break\n",
    "        \n",
    "        dividend = remainder * 10\n",
    "        quotient = dividend // denominator\n",
    "        quotients.append(str(quotient))\n",
    "        \n",
    "        remainder = dividend % denominator \n",
    "        \n",
    "    non_repeating_part = \"\".join(quotients[:repeat_idx])\n",
    "    repeating_part = \"\".join(quotients[repeat_idx:])\n",
    "    \n",
    "    return f\"{before_the_decimal}.{non_repeating_part}({repeating_part})\""
   ]
  }
 ],
 "metadata": {
  "kernelspec": {
   "display_name": "python3.9",
   "language": "python",
   "name": "python3.9"
  },
  "language_info": {
   "codemirror_mode": {
    "name": "ipython",
    "version": 3
   },
   "file_extension": ".py",
   "mimetype": "text/x-python",
   "name": "python",
   "nbconvert_exporter": "python",
   "pygments_lexer": "ipython3",
   "version": "3.9.2"
  }
 },
 "nbformat": 4,
 "nbformat_minor": 5
}
