{
 "cells": [
  {
   "cell_type": "code",
   "execution_count": null,
   "id": "3c7923ff",
   "metadata": {},
   "outputs": [],
   "source": [
    "# recursive\n",
    "class BST:\n",
    "    def __init__(self, value):\n",
    "        self.value = value\n",
    "        self.left = None\n",
    "        self.right = None\n",
    "\n",
    "    def insert(self, value):\n",
    "        ...\n",
    "\n",
    "    def remove(self, value, parent=None):\n",
    "        ...\n",
    "\n",
    "    def get_min_value(self):\n",
    "        ...\n",
    "\n",
    "    def contains(self, value):\n",
    "        ..."
   ]
  },
  {
   "cell_type": "code",
   "execution_count": 31,
   "id": "6c87bfd1",
   "metadata": {},
   "outputs": [],
   "source": [
    "# iterative\n",
    "class BST:\n",
    "    def __init__(self, value):\n",
    "        self.value = value\n",
    "        self.left = None\n",
    "        self.right = None\n",
    "\n",
    "    def insert(self, value):\n",
    "        '''\n",
    "          x\n",
    "        x   x\n",
    "        '''\n",
    "        node = self\n",
    "        \n",
    "        while True:\n",
    "            if value >= node.value:\n",
    "                # seek right\n",
    "                if node.right is None:\n",
    "                    node.right = BST(value)\n",
    "                    break\n",
    "                \n",
    "                node = node.right\n",
    "                \n",
    "            elif value < node.value:\n",
    "                # seek left\n",
    "                if node.left is None:\n",
    "                    node.left = BST(value)\n",
    "                    break\n",
    "                \n",
    "                node = node.left\n",
    "            \n",
    "        return self\n",
    "\n",
    "    def remove(self, value, parent=None):\n",
    "        '''\n",
    "        '''\n",
    "        node = self\n",
    "        \n",
    "        while True:\n",
    "            if node.value > value:\n",
    "                parent = node\n",
    "                node = node.left\n",
    "            elif node.value < value:\n",
    "                parent = node\n",
    "                node = node.right\n",
    "            elif node.value == value: # match...\n",
    "                if node.left and node.right: # two children\n",
    "                    node.value = node.right.get_min_value()\n",
    "                    node.right.remove(value, parent=node)\n",
    "                elif parent is None: # zero or one children w/ no parent\n",
    "                    '''\n",
    "                    x current\n",
    "                     x\n",
    "                     \n",
    "                    x current\n",
    "                   x \n",
    "                    '''\n",
    "                    if node.right:\n",
    "                        node.value = node.right.value\n",
    "                        node.left = node.right.left\n",
    "                        node.right = node.right.right\n",
    "                    elif node.left:\n",
    "                        node.value. node.left.value\n",
    "                        node.right = node.left.right\n",
    "                        node.left = node.left.left\n",
    "                    else:                    \n",
    "                        del node\n",
    "                else:\n",
    "                    if parent.right == node:\n",
    "                        if node.right:\n",
    "                            parent.right = node.right\n",
    "                        elif node.left:\n",
    "                            parent.right = node.left\n",
    "                        else:\n",
    "                            parent.right = None\n",
    "                        ...\n",
    "                    elif parent.left == node:\n",
    "                        if node.left:\n",
    "                            parent.left = node.left\n",
    "                        elif node.right:\n",
    "                            parent.left = node.right\n",
    "                        else:\n",
    "                            parent.left = None\n",
    "                break\n",
    "        \n",
    "        return self\n",
    "\n",
    "    def get_min_value(self):\n",
    "        node = self\n",
    "        while node.left:\n",
    "            node = node.left\n",
    "        return node.value\n",
    "\n",
    "    def contains(self, value):\n",
    "        node = self\n",
    "        while node:\n",
    "            if node.value == value:\n",
    "                return True\n",
    "            elif node.value > value:\n",
    "                node = node.left\n",
    "            elif node.value < value:\n",
    "                node = node.right\n",
    "            \n",
    "        return False"
   ]
  },
  {
   "cell_type": "code",
   "execution_count": 32,
   "id": "2fdb1fd9",
   "metadata": {},
   "outputs": [],
   "source": [
    "ten = BST(10)\n",
    "\n",
    "# ten.insert(1)\n",
    "# ten.insert(4)\n",
    "# ten.insert(5)\n",
    "# ten.insert(11)\n",
    "# ten.insert(8)\n",
    "# ten.insert(12)"
   ]
  },
  {
   "cell_type": "code",
   "execution_count": 33,
   "id": "e10f329b",
   "metadata": {},
   "outputs": [],
   "source": [
    "def helper(tree, arr=[]):\n",
    "\n",
    "    if tree is not None:\n",
    "        helper(tree.left, arr)\n",
    "        arr.append(tree.value)\n",
    "        helper(tree.right, arr)\n",
    "    return arr"
   ]
  },
  {
   "cell_type": "code",
   "execution_count": 34,
   "id": "748e2b87",
   "metadata": {},
   "outputs": [
    {
     "data": {
      "text/plain": [
       "[10]"
      ]
     },
     "execution_count": 34,
     "metadata": {},
     "output_type": "execute_result"
    }
   ],
   "source": [
    "arr = sorted(helper(ten))\n",
    "arr"
   ]
  },
  {
   "cell_type": "code",
   "execution_count": 30,
   "id": "e754f60d",
   "metadata": {},
   "outputs": [
    {
     "data": {
      "text/plain": [
       "10"
      ]
     },
     "execution_count": 30,
     "metadata": {},
     "output_type": "execute_result"
    }
   ],
   "source": [
    "arr[-3]"
   ]
  },
  {
   "cell_type": "code",
   "execution_count": 58,
   "id": "70f7d350",
   "metadata": {},
   "outputs": [
    {
     "data": {
      "text/plain": [
       "<__main__.BST at 0x104233040>"
      ]
     },
     "execution_count": 58,
     "metadata": {},
     "output_type": "execute_result"
    }
   ],
   "source": [
    "ten.remove(5)"
   ]
  },
  {
   "cell_type": "code",
   "execution_count": 40,
   "id": "181f6942",
   "metadata": {},
   "outputs": [],
   "source": [
    "ten = BST(10)\n",
    "\n",
    "ten.left = BST(5)\n",
    "ten.left.left = BST(2)\n",
    "ten.left.right = BST(6)\n",
    "\n",
    "ten.right = BST(15)\n",
    "ten.right.left = BST(13)\n",
    "ten.right.right = BST(22)"
   ]
  }
 ],
 "metadata": {
  "kernelspec": {
   "display_name": "python3.9",
   "language": "python",
   "name": "python3.9"
  },
  "language_info": {
   "codemirror_mode": {
    "name": "ipython",
    "version": 3
   },
   "file_extension": ".py",
   "mimetype": "text/x-python",
   "name": "python",
   "nbconvert_exporter": "python",
   "pygments_lexer": "ipython3",
   "version": "3.9.2"
  }
 },
 "nbformat": 4,
 "nbformat_minor": 5
}
