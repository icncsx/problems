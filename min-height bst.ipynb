{
 "cells": [
  {
   "cell_type": "code",
   "execution_count": 4,
   "id": "f77ec24c",
   "metadata": {},
   "outputs": [],
   "source": [
    "class BST:\n",
    "\n",
    "    def __init__(self, value):\n",
    "        self.value = value\n",
    "        self.left = None\n",
    "        self.right = None\n",
    "\n",
    "    def insert(self, value):\n",
    "        '''\n",
    "          x\n",
    "        x   x\n",
    "        '''\n",
    "        node = self\n",
    "        \n",
    "        while True:\n",
    "            if value >= node.value:\n",
    "                # seek right\n",
    "                if node.right is None:\n",
    "                    node.right = BST(value)\n",
    "                    break\n",
    "                node = node.right\n",
    "            elif value < node.value:\n",
    "                if node.left is None:\n",
    "                    node.left = BST(value)\n",
    "                    break\n",
    "                node = node.value\n",
    "                \n",
    "        return self    "
   ]
  },
  {
   "cell_type": "code",
   "execution_count": 20,
   "id": "702ae7cf",
   "metadata": {},
   "outputs": [],
   "source": [
    "def minHeightBst(arr, bst, startIdx, endIdx):\n",
    "    arr = sorted(arr)\n",
    "    return helper(arr, None, 0, len(arr)-1)\n",
    "\n",
    "def helper(arr, bst, startIdx, endIdx):\n",
    "    if endIdx < startIdx:\n",
    "        return\n",
    "    \n",
    "    midIdx = (startIdx + endIdx) // 2\n",
    "    candidate = arr[midIdx]\n",
    "    \n",
    "    if bst is None:\n",
    "        bst = BST(candidate)\n",
    "    else:\n",
    "        bst.insert(candidate)\n",
    "        \n",
    "    # recursively build out the left tree...\n",
    "    \n",
    "    # left tree\n",
    "    helper(arr, bst, startIdx, midIdx-1)\n",
    "    \n",
    "    # right tree\n",
    "    helper(arr, bst, midIdx+1, endIdx)    \n",
    "    \n",
    "    return bst"
   ]
  }
 ],
 "metadata": {
  "kernelspec": {
   "display_name": "python3.9",
   "language": "python",
   "name": "python3.9"
  },
  "language_info": {
   "codemirror_mode": {
    "name": "ipython",
    "version": 3
   },
   "file_extension": ".py",
   "mimetype": "text/x-python",
   "name": "python",
   "nbconvert_exporter": "python",
   "pygments_lexer": "ipython3",
   "version": "3.9.2"
  }
 },
 "nbformat": 4,
 "nbformat_minor": 5
}
