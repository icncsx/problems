{
 "cells": [
  {
   "cell_type": "code",
   "execution_count": null,
   "id": "3ce01298",
   "metadata": {},
   "outputs": [
    {
     "name": "stdout",
     "output_type": "stream",
     "text": [
      "--Return--\n",
      "None\n",
      "> \u001b[0;32m/var/folders/7k/x8vbtmzd7t11v4pgjzrlq39r0000gn/T/ipykernel_81828/2932311076.py\u001b[0m(51)\u001b[0;36m<module>\u001b[0;34m()\u001b[0m\n",
      "\u001b[0;32m     49 \u001b[0;31m\u001b[0;34m\u001b[0m\u001b[0m\n",
      "\u001b[0m\u001b[0;32m     50 \u001b[0;31m\u001b[0mroot\u001b[0m \u001b[0;34m=\u001b[0m \u001b[0mcreateTree\u001b[0m\u001b[0;34m(\u001b[0m\u001b[0marr\u001b[0m\u001b[0;34m,\u001b[0m \u001b[0;32mNone\u001b[0m\u001b[0;34m)\u001b[0m\u001b[0;34m\u001b[0m\u001b[0;34m\u001b[0m\u001b[0m\n",
      "\u001b[0m\u001b[0;32m---> 51 \u001b[0;31m\u001b[0mpdb\u001b[0m\u001b[0;34m.\u001b[0m\u001b[0mset_trace\u001b[0m\u001b[0;34m(\u001b[0m\u001b[0;34m)\u001b[0m\u001b[0;34m\u001b[0m\u001b[0;34m\u001b[0m\u001b[0m\n",
      "\u001b[0m\u001b[0;32m     52 \u001b[0;31m\u001b[0mprint\u001b[0m\u001b[0;34m(\u001b[0m\u001b[0;34m\"Done\"\u001b[0m\u001b[0;34m)\u001b[0m\u001b[0;34m\u001b[0m\u001b[0;34m\u001b[0m\u001b[0m\n",
      "\u001b[0m\u001b[0;32m     53 \u001b[0;31m\u001b[0;34m\u001b[0m\u001b[0m\n",
      "\u001b[0m\n"
     ]
    }
   ],
   "source": [
    "import pdb\n",
    "from collections import deque\n",
    " \n",
    "# Node class for holding the Binary Tree\n",
    "class node:\n",
    "    def __init__(self, data = None):\n",
    "        self.data = data\n",
    "        self.left = None\n",
    "        self.right = None  \n",
    "\n",
    "def createTree(a, root):\n",
    "    for i in range(len(a)):\n",
    "        root = insertValue(a[i], root, i) \n",
    "        # BST(8)\n",
    "    return root\n",
    "\n",
    "Q = deque()\n",
    "def insertValue(data, root, i):\n",
    "        \n",
    "    newnode = node(data)\n",
    "\n",
    "    if len(Q):\n",
    "        temp = Q[0]\n",
    "        \n",
    "    if root == None:\n",
    "        root = newnode\n",
    "    elif i % 2 != 0: # 1\n",
    "        # temp.left == None:\n",
    "        if data is None:\n",
    "            temp.left = None\n",
    "            # pdb.set_trace()\n",
    "        else:\n",
    "            temp.left = newnode\n",
    "    elif i % 2 == 0: # 2\n",
    "        # temp.right == None:\n",
    "        if data is None:\n",
    "            temp.right = None\n",
    "            # pdb.set_trace()\n",
    "        else:\n",
    "            temp.right = newnode\n",
    "        atemp = Q.popleft()\n",
    "     \n",
    "    if data is not None:\n",
    "        Q.append(newnode)\n",
    "        \n",
    "    return root\n",
    " \n",
    "arr = [8,5,11,None,None, 1]\n",
    "\n",
    "root = createTree(arr, None)\n",
    "pdb.set_trace()\n",
    "print(\"Done\")\n",
    "\n",
    " \n",
    "# levelOrder(root)"
   ]
  }
 ],
 "metadata": {
  "kernelspec": {
   "display_name": "python3.9",
   "language": "python",
   "name": "python3.9"
  },
  "language_info": {
   "codemirror_mode": {
    "name": "ipython",
    "version": 3
   },
   "file_extension": ".py",
   "mimetype": "text/x-python",
   "name": "python",
   "nbconvert_exporter": "python",
   "pygments_lexer": "ipython3",
   "version": "3.9.2"
  }
 },
 "nbformat": 4,
 "nbformat_minor": 5
}
