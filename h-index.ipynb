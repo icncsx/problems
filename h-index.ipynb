{
 "cells": [
  {
   "cell_type": "code",
   "execution_count": 117,
   "id": "352f85a0",
   "metadata": {},
   "outputs": [],
   "source": [
    "def hIndex(citations: list[int]) -> int:\n",
    "    \"\"\"\n",
    "    largest number h such that the researcher has published h papers that have each been cited at least h times.\n",
    "    \"\"\"\n",
    "    \n",
    "    h_index = 1\n",
    "    count = 0\n",
    "    \n",
    "    citations.sort()\n",
    "    \n",
    "    '''\n",
    "    [2,3,4,4]\n",
    "    '''\n",
    "    \n",
    "    # the ceiling is going to be the length of the array...\n",
    "    h_index = len(citations)\n",
    "\n",
    "    for idx in range(0, len(citations)):\n",
    "        if citations[idx] >= h_index:\n",
    "            return h_index\n",
    "        \n",
    "        h_index -= 1\n",
    "    \n",
    "    return 0"
   ]
  },
  {
   "cell_type": "code",
   "execution_count": 119,
   "id": "92d561e3",
   "metadata": {},
   "outputs": [
    {
     "data": {
      "text/plain": [
       "3"
      ]
     },
     "execution_count": 119,
     "metadata": {},
     "output_type": "execute_result"
    }
   ],
   "source": [
    "hIndex([4,4,4,4])\n",
    "# hIndex([2,2,4,4]) # 4"
   ]
  },
  {
   "cell_type": "code",
   "execution_count": 65,
   "id": "6641fde7",
   "metadata": {},
   "outputs": [],
   "source": [
    "def hIndex(citations: list[int]) -> int:\n",
    "    \"\"\"\n",
    "    largest number h such that the researcher has published h papers that have each been cited at least h times.\n",
    "    \"\"\"\n",
    "    \n",
    "    ssum = 0\n",
    "    sz = len(citations)\n",
    "    mp = [0]*(sz+1)\n",
    "    \n",
    "    print(mp, sz)\n",
    "\n",
    "    for ci in citations:\n",
    "        # print(min(sz,ci))\n",
    "        mp[min(sz,ci)] +=1\n",
    "    print(mp)\n",
    "    \n",
    "    ssum = 0\n",
    "    for i in range(sz,-1,-1):\n",
    "        ssum += mp[i]\n",
    "        if ssum>=i:\n",
    "            return i\n",
    "        \n",
    "    # I don't understand this solution, more on this later...\n",
    "\n",
    "    return 0"
   ]
  }
 ],
 "metadata": {
  "kernelspec": {
   "display_name": "python3.9",
   "language": "python",
   "name": "python3.9"
  },
  "language_info": {
   "codemirror_mode": {
    "name": "ipython",
    "version": 3
   },
   "file_extension": ".py",
   "mimetype": "text/x-python",
   "name": "python",
   "nbconvert_exporter": "python",
   "pygments_lexer": "ipython3",
   "version": "3.9.2"
  }
 },
 "nbformat": 4,
 "nbformat_minor": 5
}
