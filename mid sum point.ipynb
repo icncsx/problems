{
 "cells": [
  {
   "cell_type": "code",
   "execution_count": 11,
   "id": "5576d91a",
   "metadata": {},
   "outputs": [],
   "source": [
    "def mid_sum_idx(arr: list[float]) -> int:\n",
    "    '''\n",
    "    Find the index at which left sum is equivalent to the right sum\n",
    "    \n",
    "    When left sum is equivalent to the right sum, we know that left sum is half of the total sum\n",
    "    \n",
    "    Initialize an acc var, then accumulate until csum == sum / 2\n",
    "    \n",
    "    assumes that arr has a non-zero sum... which might not be the case...\n",
    "    '''\n",
    "    \n",
    "    half = sum(arr) // 2\n",
    "    \n",
    "    csum = 0\n",
    "    for idx, val in enumerate(arr):\n",
    "        csum += val\n",
    "        if csum == half:\n",
    "            # print(arr[:idx+1], arr[idx+1:])\n",
    "            return idx\n",
    "        elif csum > half:\n",
    "            return -1 # non-existent\n",
    "    \n",
    "    return -1"
   ]
  },
  {
   "cell_type": "code",
   "execution_count": 10,
   "id": "34a46b3e",
   "metadata": {},
   "outputs": [
    {
     "name": "stdout",
     "output_type": "stream",
     "text": [
      "[1, 2, 3] [5, 1]\n"
     ]
    },
    {
     "data": {
      "text/plain": [
       "2"
      ]
     },
     "execution_count": 10,
     "metadata": {},
     "output_type": "execute_result"
    }
   ],
   "source": [
    "mid_sum_idx([1,2,3,5,1])"
   ]
  }
 ],
 "metadata": {
  "kernelspec": {
   "display_name": "python3.9",
   "language": "python",
   "name": "python3.9"
  },
  "language_info": {
   "codemirror_mode": {
    "name": "ipython",
    "version": 3
   },
   "file_extension": ".py",
   "mimetype": "text/x-python",
   "name": "python",
   "nbconvert_exporter": "python",
   "pygments_lexer": "ipython3",
   "version": "3.9.2"
  }
 },
 "nbformat": 4,
 "nbformat_minor": 5
}
