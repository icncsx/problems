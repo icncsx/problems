{
 "cells": [
  {
   "cell_type": "code",
   "execution_count": 180,
   "id": "a2be28bd",
   "metadata": {},
   "outputs": [],
   "source": [
    "class BST:\n",
    "    def __init__(self, val):\n",
    "        self.val = val\n",
    "        self.left = None\n",
    "        self.right = None\n",
    "        \n",
    "def closest_value(node, target):\n",
    "    \n",
    "    cv = node.val\n",
    "    \n",
    "    while node:        \n",
    "        if abs(node.val - target) < (abs(cv - target)):\n",
    "            cv = node.val\n",
    "            \n",
    "        if node.val == target:\n",
    "            return node.val\n",
    "        elif cv > target:\n",
    "            node = node.left\n",
    "        elif cv < target:\n",
    "            node = node.right\n",
    "            \n",
    "    return cv"
   ]
  },
  {
   "cell_type": "code",
   "execution_count": 181,
   "id": "37897ef7",
   "metadata": {},
   "outputs": [
    {
     "data": {
      "text/plain": [
       "22"
      ]
     },
     "execution_count": 181,
     "metadata": {},
     "output_type": "execute_result"
    }
   ],
   "source": [
    "ten = BST(10)\n",
    "\n",
    "ten.left = BST(5)\n",
    "ten.left.left = BST(2)\n",
    "ten.left.right = BST(5)\n",
    "\n",
    "ten.right = BST(15)\n",
    "ten.right.left = BST(13)\n",
    "ten.right.right = BST(22)\n",
    "\n",
    "closest_value(ten, 20)"
   ]
  }
 ],
 "metadata": {
  "kernelspec": {
   "display_name": "python3.9",
   "language": "python",
   "name": "python3.9"
  },
  "language_info": {
   "codemirror_mode": {
    "name": "ipython",
    "version": 3
   },
   "file_extension": ".py",
   "mimetype": "text/x-python",
   "name": "python",
   "nbconvert_exporter": "python",
   "pygments_lexer": "ipython3",
   "version": "3.9.2"
  }
 },
 "nbformat": 4,
 "nbformat_minor": 5
}
