{
 "cells": [
  {
   "cell_type": "code",
   "execution_count": 50,
   "id": "662682ad",
   "metadata": {},
   "outputs": [],
   "source": [
    "def merge_overlapping_intervals(intervals):\n",
    "    '''\n",
    "    the more intuitive solution for me personally...\n",
    "    '''\n",
    "    \n",
    "    intervals = sorted(intervals, key=lambda x: x[0])\n",
    "    \n",
    "        \n",
    "    print(intervals)\n",
    "    \n",
    "    res = []\n",
    "    \n",
    "    current_range = intervals[0]\n",
    "    for start, end in intervals[1:]:\n",
    "        \n",
    "        [prev_start, prev_end] = current_range\n",
    "        if start > prev_end:\n",
    "            res.append(current_range)\n",
    "            # a\n",
    "            current_range = [start, end]\n",
    "        elif start <= prev_end and prev_end <= end:\n",
    "            # a\n",
    "            current_range = [prev_start, end]\n",
    "\n",
    "    # a\n",
    "    res.append(current_range)\n",
    "        \n",
    "    return res"
   ]
  },
  {
   "cell_type": "code",
   "execution_count": 52,
   "id": "ec898769",
   "metadata": {},
   "outputs": [
    {
     "name": "stdout",
     "output_type": "stream",
     "text": [
      "[[1, 4], [1, 3]]\n"
     ]
    },
    {
     "data": {
      "text/plain": [
       "[[1, 4]]"
      ]
     },
     "execution_count": 52,
     "metadata": {},
     "output_type": "execute_result"
    }
   ],
   "source": [
    "# merge_overlapping_intervals(\n",
    "#     [\n",
    "#         [43, 49],\n",
    "#         [9, 12],\n",
    "#         [12, 54],\n",
    "#         [45, 90],\n",
    "#         [91, 93]\n",
    "#     ]\n",
    "# )\n",
    "    \n",
    "merge_overlapping_intervals([[1,4],[1,3]])\n",
    "\n",
    "#merge_overlapping_intervals([[1,2],[3,5],[4,7],[6,8],[9,10]])\n",
    "\n",
    "#merge_overlapping_intervals([[1,2],[3,5],[4,7],[6,8]])"
   ]
  },
  {
   "cell_type": "code",
   "execution_count": 40,
   "id": "cefe61ae",
   "metadata": {},
   "outputs": [],
   "source": [
    "def merge_overlapping_intervals(intervals):\n",
    "    '''\n",
    "    awkward having to mutate something...\n",
    "    '''\n",
    "    \n",
    "    intervals = sorted(intervals, key=lambda x: x[0])\n",
    "    \n",
    "    res = []\n",
    "    \n",
    "    current_interval = intervals[0]\n",
    "    \n",
    "    res.append(current_interval)\n",
    "    \n",
    "    for next_interval in intervals:\n",
    "        _, current_interval_end = current_interval # [1,4]\n",
    "        next_interval_start, next_interval_end = next_interval # [1,4]\n",
    "        \n",
    "        print(1)\n",
    "        if current_interval_end >= next_interval_start:\n",
    "            print(2)\n",
    "            print(current_interval)\n",
    "            current_interval[1] = max(current_interval_end, next_interval_end)\n",
    "        else:\n",
    "            print(3)\n",
    "            current_interval = next_interval\n",
    "            res.append(current_interval)\n",
    "        \n",
    "    return res"
   ]
  },
  {
   "cell_type": "code",
   "execution_count": 43,
   "id": "b11e6adb",
   "metadata": {},
   "outputs": [
    {
     "name": "stdout",
     "output_type": "stream",
     "text": [
      "1\n",
      "2\n",
      "[1, 4]\n",
      "1\n",
      "2\n",
      "[1, 4]\n",
      "1\n",
      "3\n"
     ]
    },
    {
     "data": {
      "text/plain": [
       "[[1, 5], [6, 7]]"
      ]
     },
     "execution_count": 43,
     "metadata": {},
     "output_type": "execute_result"
    }
   ],
   "source": [
    "merge_overlapping_intervals([[1,4],[1,5],[6,7]])\n",
    "\n",
    "# merge_overlapping_intervals([[1,2],[3,5],[4,7],[6,8],[9,10]])"
   ]
  }
 ],
 "metadata": {
  "kernelspec": {
   "display_name": "python3.9",
   "language": "python",
   "name": "python3.9"
  },
  "language_info": {
   "codemirror_mode": {
    "name": "ipython",
    "version": 3
   },
   "file_extension": ".py",
   "mimetype": "text/x-python",
   "name": "python",
   "nbconvert_exporter": "python",
   "pygments_lexer": "ipython3",
   "version": "3.9.2"
  }
 },
 "nbformat": 4,
 "nbformat_minor": 5
}
