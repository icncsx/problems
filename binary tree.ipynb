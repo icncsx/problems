{
 "cells": [
  {
   "cell_type": "code",
   "execution_count": 10,
   "id": "da225b61",
   "metadata": {},
   "outputs": [],
   "source": [
    "class BST:\n",
    "    def __init__(self, val):\n",
    "        self.left = None\n",
    "        self.right = None\n",
    "        self.val = val"
   ]
  },
  {
   "cell_type": "code",
   "execution_count": 12,
   "id": "d0906125",
   "metadata": {},
   "outputs": [],
   "source": [
    "root = BST(10)\n",
    "\n",
    "root.left = BST(5)\n",
    "root.left.left = BST(2)\n",
    "root.left.right = BST(5)\n",
    "\n",
    "root.right = BST(15)\n",
    "root.right.left = BST(13)\n",
    "root.right.right = BST(22)"
   ]
  },
  {
   "cell_type": "code",
   "execution_count": 14,
   "id": "a52c694b",
   "metadata": {},
   "outputs": [
    {
     "data": {
      "text/plain": [
       "10"
      ]
     },
     "execution_count": 14,
     "metadata": {},
     "output_type": "execute_result"
    }
   ],
   "source": [
    "root.val"
   ]
  },
  {
   "cell_type": "code",
   "execution_count": 16,
   "id": "a214a439",
   "metadata": {},
   "outputs": [
    {
     "data": {
      "text/plain": [
       "(<__main__.BST at 0x104070ac0>, 5)"
      ]
     },
     "execution_count": 16,
     "metadata": {},
     "output_type": "execute_result"
    }
   ],
   "source": [
    "root.left, root.left.val"
   ]
  }
 ],
 "metadata": {
  "kernelspec": {
   "display_name": "python3.9",
   "language": "python",
   "name": "python3.9"
  },
  "language_info": {
   "codemirror_mode": {
    "name": "ipython",
    "version": 3
   },
   "file_extension": ".py",
   "mimetype": "text/x-python",
   "name": "python",
   "nbconvert_exporter": "python",
   "pygments_lexer": "ipython3",
   "version": "3.9.2"
  }
 },
 "nbformat": 4,
 "nbformat_minor": 5
}
