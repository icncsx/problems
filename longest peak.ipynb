{
 "cells": [
  {
   "cell_type": "code",
   "execution_count": 5,
   "id": "7153646f",
   "metadata": {},
   "outputs": [],
   "source": [
    "def is_peak(arr, idx):\n",
    "    if arr[idx] > arr[idx+1] and arr[idx-1] < arr[idx]:\n",
    "        return True\n",
    "    return False"
   ]
  },
  {
   "cell_type": "code",
   "execution_count": null,
   "id": "c0eeff71",
   "metadata": {},
   "outputs": [],
   "source": [
    "def longest_peak(arr: list[float]) -> int:\n",
    "    '''\n",
    "    a peak is defined as adjacent integers in the array that are strictly increasing\n",
    "    until they reach a tip (the highest value in the peak), at which point they become\n",
    "    strictly decreasing.\n",
    "    '''\n",
    "    \n",
    "    # iterate through the array starting at the 1th idx\n",
    "    # identify the peak\n",
    "    # pause\n",
    "    # then seek left and right (ensure strictly decreasing/increasing behavior)\n",
    "    # then you have a left idx, a right idx\n",
    "    # calculate their lengths by (right_idx - left_idx + 1)\n",
    "    # then repeat but start iterating from the (right_idx + 1)th idx\n",
    "    \n",
    "    idx = 1\n",
    "    max_length = 0\n",
    "    \n",
    "    while idx < len(arr) - 1:\n",
    "        \n",
    "        # not a peak\n",
    "        if not is_peak(arr, idx):\n",
    "            idx += 1\n",
    "            continue\n",
    "            \n",
    "        # identified a peak\n",
    "        l = idx - 2 # more left\n",
    "        r = idx + 2 # more right\n",
    "        \n",
    "        while l >= 0 and (arr[l] < arr[l-1]):\n",
    "            l -= 1\n",
    "            \n",
    "        while r < len(arr) and (arr[r] < arr[r-1]):\n",
    "            r += 1\n",
    "            \n",
    "        # r = len(arr)\n",
    "        # l = -1\n",
    "        # if all a peak\n",
    "        # [1,2,1]\n",
    "        # -1, 3\n",
    "        \n",
    "        print(l, r)\n",
    "        \n",
    "        max_length = max(max_length, r-l-1)\n",
    "        \n",
    "        idx = r\n",
    "        \n",
    "    return max_length"
   ]
  },
  {
   "cell_type": "code",
   "execution_count": 19,
   "id": "7b2aea28",
   "metadata": {},
   "outputs": [],
   "source": [
    "def longest_peak(arr: list[float]) -> int:\n",
    "    '''\n",
    "    a peak is defined as adjacent integers in the array that are strictly increasing\n",
    "    until they reach a tip (the highest value in the peak), at which point they become\n",
    "    strictly decreasing.\n",
    "    '''\n",
    "    \n",
    "    # iterate through the array starting at the 1th idx\n",
    "    # identify the peak\n",
    "    # pause\n",
    "    # then seek left and right (ensure strictly decreasing/increasing behavior)\n",
    "    # then you have a left idx, a right idx\n",
    "    # calculate their lengths by (right_idx - left_idx + 1)\n",
    "    # then repeat but start iterating from the (right_idx + 1)th idx\n",
    "    \n",
    "    idx = 1\n",
    "    max_length = 0\n",
    "    \n",
    "    while idx < len(arr) - 1:\n",
    "        \n",
    "        # not a peak\n",
    "        if not is_peak(arr, idx):\n",
    "            idx += 1\n",
    "            continue\n",
    "            \n",
    "        # identified a peak\n",
    "        l = idx - 1\n",
    "        r = idx + 1\n",
    "        \n",
    "        # make sure left is bounded...\n",
    "        while (l-1) >= 0 and (arr[l] > arr[l-1]):\n",
    "            l -= 1\n",
    "            \n",
    "        while r+1 < len(arr) and (arr[r] > arr[r+1]):\n",
    "            r += 1\n",
    "            \n",
    "        # r = len(arr)\n",
    "        # l = -1\n",
    "        # if all a peak\n",
    "        # [1,2,1]\n",
    "        # -1, 3\n",
    "        \n",
    "        print(l, r)\n",
    "        \n",
    "        max_length = max(max_length, r-l+1)\n",
    "        \n",
    "        idx = r + 1\n",
    "        \n",
    "    return max_length"
   ]
  },
  {
   "cell_type": "code",
   "execution_count": null,
   "id": "4db5faab",
   "metadata": {},
   "outputs": [],
   "source": [
    "longest_peak([1,2,3,3,4,0,10,6,5,-1,-3,2,3])"
   ]
  },
  {
   "cell_type": "code",
   "execution_count": 28,
   "id": "32b37c68",
   "metadata": {},
   "outputs": [
    {
     "name": "stdout",
     "output_type": "stream",
     "text": [
      "2 6\n",
      "4 11\n"
     ]
    },
    {
     "data": {
      "text/plain": [
       "6"
      ]
     },
     "execution_count": 28,
     "metadata": {},
     "output_type": "execute_result"
    }
   ],
   "source": [
    "longest_peak([1,2,3,3,4,0,10,6,5,-1,-3,2,3])"
   ]
  }
 ],
 "metadata": {
  "kernelspec": {
   "display_name": "python3.9",
   "language": "python",
   "name": "python3.9"
  },
  "language_info": {
   "codemirror_mode": {
    "name": "ipython",
    "version": 3
   },
   "file_extension": ".py",
   "mimetype": "text/x-python",
   "name": "python",
   "nbconvert_exporter": "python",
   "pygments_lexer": "ipython3",
   "version": "3.9.2"
  }
 },
 "nbformat": 4,
 "nbformat_minor": 5
}
