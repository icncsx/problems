{
 "cells": [
  {
   "cell_type": "code",
   "execution_count": 9,
   "id": "f4974ca2",
   "metadata": {},
   "outputs": [],
   "source": [
    "def is_monotonic(arr: list[float]) -> bool:\n",
    "    '''\n",
    "    non-increasing or decreasing\n",
    "    '''\n",
    "    \n",
    "    # iterate until there is a diff\n",
    "    idx = 1\n",
    "    while idx < len(arr) and arr[idx] == arr[idx-1]: # diff has to be non-zero\n",
    "        idx += 1\n",
    "        \n",
    "    # neither increasing nor decreasing\n",
    "    if idx == len(arr):\n",
    "        return True\n",
    "    \n",
    "    # there is a diff\n",
    "    diff = arr[idx] - arr[idx-1]\n",
    "    idx += 1\n",
    "    \n",
    "    while idx < len(arr):\n",
    "        \n",
    "        # direction is positive\n",
    "        if diff > 0 and arr[idx] < arr[idx-1]:\n",
    "            return False\n",
    "        \n",
    "        # direction is negative\n",
    "        if diff < 0 and arr[idx] > arr[idx-1]:\n",
    "            return False\n",
    "            \n",
    "        idx += 1\n",
    "        \n",
    "    return True"
   ]
  },
  {
   "cell_type": "code",
   "execution_count": null,
   "id": "d06c1c04",
   "metadata": {},
   "outputs": [],
   "source": [
    "def is_monotonic(arr: list[float]) -> bool:\n",
    "    '''\n",
    "    the more intuitive solution for me\n",
    "    '''\n",
    "    \n",
    "    is_decreasing = False\n",
    "    is_increasing = False\n",
    "    \n",
    "    for idx in range(1, len(arr)):\n",
    "        cv = arr[idx]\n",
    "        pv = arr[idx-1]\n",
    "        \n",
    "        if pv > cv:\n",
    "            is_increasing = True\n",
    "        elif pv < cv:\n",
    "            is_decreasing = True\n",
    "        \n",
    "        if (is_decreasing) and (is_increasing):\n",
    "            return False\n",
    "            \n",
    "    return True"
   ]
  },
  {
   "cell_type": "code",
   "execution_count": 24,
   "id": "449228c3",
   "metadata": {},
   "outputs": [
    {
     "data": {
      "text/plain": [
       "True"
      ]
     },
     "execution_count": 24,
     "metadata": {},
     "output_type": "execute_result"
    }
   ],
   "source": [
    "is_monotonic([-1,-5,-10,-1100,-1100,-1101,-1102,-9001])"
   ]
  }
 ],
 "metadata": {
  "kernelspec": {
   "display_name": "python3.9",
   "language": "python",
   "name": "python3.9"
  },
  "language_info": {
   "codemirror_mode": {
    "name": "ipython",
    "version": 3
   },
   "file_extension": ".py",
   "mimetype": "text/x-python",
   "name": "python",
   "nbconvert_exporter": "python",
   "pygments_lexer": "ipython3",
   "version": "3.9.2"
  }
 },
 "nbformat": 4,
 "nbformat_minor": 5
}
