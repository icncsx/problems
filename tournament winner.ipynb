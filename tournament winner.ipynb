{
 "cells": [
  {
   "cell_type": "code",
   "execution_count": null,
   "id": "0c7a97c6",
   "metadata": {},
   "outputs": [],
   "source": [
    "def tournament_winner(competitions: list[list[str]], results: list[int]):\n",
    "    '''\n",
    "    [\"hometeam\", \"awayteam\"]\n",
    "    1 means hometeam won\n",
    "    0 means awayteam won\n",
    "    \n",
    "    team receives 3 points if it wins and 0 points if it loses.\n",
    "    Winner of the tournament is the team that receives the most amount of points\n",
    "    \n",
    "    return the winner of the tournament\n",
    "    \n",
    "    more efficient...\n",
    "    focused solution...\n",
    "    '''\n",
    "    \n",
    "    current_leader = \"\"\n",
    "    team_that_just_won = \"\"\n",
    "    \n",
    "    scores: dict[str, int] = { current_leader: 0 }\n",
    "    \n",
    "    for idx, match in enumerate(competitions):\n",
    "        [hometeam, awayteam] = match\n",
    "        team_that_just_won = hometeam if results[idx] == 1 else awayteam\n",
    "        \n",
    "        # update\n",
    "        scores[team_that_just_won] = scores.get(team_that_just_won, 0) + 3\n",
    "\n",
    "        # compare team_that_just_won w/ current_leader\n",
    "        # if team_that_just_won > current_leader, update\n",
    "        if scores[team_that_just_won] > scores[current_leader]:\n",
    "            current_leader = team_that_just_won\n",
    "\n",
    "    return current_leader"
   ]
  },
  {
   "cell_type": "code",
   "execution_count": 17,
   "id": "444f7116",
   "metadata": {},
   "outputs": [],
   "source": [
    "def tournament_winner(competitions: list[list[str]], results: list[int]):\n",
    "    '''\n",
    "    [\"hometeam\", \"awayteam\"]\n",
    "    1 means hometeam won\n",
    "    0 means awayteam won\n",
    "    \n",
    "    team receives 3 points if it wins and 0 points if it loses.\n",
    "    Winner of the tournament is the team that receives the most amount of points\n",
    "    \n",
    "    return the winner of the tournament\n",
    "    '''\n",
    "    \n",
    "    scores: dict[str, int] = { current_leader: 0 }\n",
    "    \n",
    "    for idx, match in enumerate(competitions):\n",
    "        [hometeam, awayteam] = match\n",
    "        team_that_just_won = hometeam if results[idx] == 1 else awayteam\n",
    "        \n",
    "        scores[team_that_just_won] = scores.get(team_that_just_won, 0) + 3\n",
    "        \n",
    "    # iterate through populated scores dict\n",
    "    max_score = 0\n",
    "    winner = \"\"\n",
    "    for team, score in scores.items():\n",
    "        if score > max_score:\n",
    "            winner = team\n",
    "            max_score = score\n",
    "            \n",
    "    return winner"
   ]
  },
  {
   "cell_type": "code",
   "execution_count": 4,
   "id": "b3bb3d5e",
   "metadata": {},
   "outputs": [
    {
     "data": {
      "text/plain": [
       "'Python'"
      ]
     },
     "execution_count": 4,
     "metadata": {},
     "output_type": "execute_result"
    }
   ],
   "source": [
    "tournament_winner([[\"HTML\",\"C#\"],[\"C#\",\"Python\"],[\"Python\",\"HTML\"]], [0,0,1])"
   ]
  }
 ],
 "metadata": {
  "kernelspec": {
   "display_name": "python3.9",
   "language": "python",
   "name": "python3.9"
  },
  "language_info": {
   "codemirror_mode": {
    "name": "ipython",
    "version": 3
   },
   "file_extension": ".py",
   "mimetype": "text/x-python",
   "name": "python",
   "nbconvert_exporter": "python",
   "pygments_lexer": "ipython3",
   "version": "3.9.2"
  }
 },
 "nbformat": 4,
 "nbformat_minor": 5
}
