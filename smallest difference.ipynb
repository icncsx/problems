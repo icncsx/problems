{
 "cells": [
  {
   "cell_type": "code",
   "execution_count": 8,
   "id": "48a7062a",
   "metadata": {},
   "outputs": [],
   "source": [
    "def smallest_difference(arr1: list[float], arr2: list[float]) -> float:\n",
    "    '''\n",
    "    Write a function that takes in two non-empty arrays of integers, finds the pair of numbers (one from each array)\n",
    "    whose absolute difference is closest to zero\n",
    "    '''\n",
    "    \n",
    "    smallest_diff = float(\"inf\")\n",
    "    pair = [0, float(\"inf\")]\n",
    "    \n",
    "    sorted_arr1 = sorted(arr1)\n",
    "    sorted_arr2 = sorted(arr2)\n",
    "    \n",
    "    l = 0\n",
    "    r = 0\n",
    "    \n",
    "    # [1,2,3,4,5]\n",
    "    # [7,8,9,10]\n",
    "    \n",
    "    while l < len(arr1) and r < len(arr2):\n",
    "        lv = sorted_arr1[l]\n",
    "        rv = sorted_arr2[r]\n",
    "        \n",
    "        diff = abs(rv - lv)\n",
    "        \n",
    "        if diff == 0:\n",
    "            return [lv, rv]\n",
    "        \n",
    "        if diff < smallest_diff:\n",
    "            pair = [lv, rv]\n",
    "            smallest_diff = diff\n",
    "        \n",
    "        if rv > lv:\n",
    "            l += 1\n",
    "        elif rv < lv:\n",
    "            r += 1\n",
    "                \n",
    "    return pair"
   ]
  },
  {
   "cell_type": "code",
   "execution_count": 9,
   "id": "4cd9c73e",
   "metadata": {},
   "outputs": [],
   "source": [
    "def smallest_difference(arr1: list[float], arr2: list[float]) -> float:\n",
    "    '''\n",
    "    '''\n",
    "    \n",
    "    smallest_diff = float(\"inf\")\n",
    "    pair = [0, float(\"inf\")]\n",
    "    \n",
    "    for val in arr1:\n",
    "        for val_ in arr2:\n",
    "            diff = abs(val - val_)\n",
    "            if diff < smallest_diff:\n",
    "                smallest_diff = diff\n",
    "                pair = [val, val_]\n",
    "                \n",
    "    return pair"
   ]
  },
  {
   "cell_type": "code",
   "execution_count": 10,
   "id": "6a1914a8",
   "metadata": {},
   "outputs": [
    {
     "data": {
      "text/plain": [
       "[28, 26]"
      ]
     },
     "execution_count": 10,
     "metadata": {},
     "output_type": "execute_result"
    }
   ],
   "source": [
    "smallest_difference([-1,5,10,20,28,3], [26,134,135,15,17])"
   ]
  }
 ],
 "metadata": {
  "kernelspec": {
   "display_name": "python3.9",
   "language": "python",
   "name": "python3.9"
  },
  "language_info": {
   "codemirror_mode": {
    "name": "ipython",
    "version": 3
   },
   "file_extension": ".py",
   "mimetype": "text/x-python",
   "name": "python",
   "nbconvert_exporter": "python",
   "pygments_lexer": "ipython3",
   "version": "3.9.2"
  }
 },
 "nbformat": 4,
 "nbformat_minor": 5
}
