{
 "cells": [
  {
   "cell_type": "code",
   "execution_count": 1,
   "id": "d5d70a07",
   "metadata": {},
   "outputs": [],
   "source": [
    "# running anything really\n",
    "# running product\n",
    "# running divide\n",
    "# running sum\n",
    "# running diff"
   ]
  },
  {
   "cell_type": "code",
   "execution_count": 13,
   "id": "de5259cf",
   "metadata": {},
   "outputs": [],
   "source": [
    "def left_running_product(arr: list[float]) -> list[float]:\n",
    "    '''\n",
    "    '''    \n",
    "    \n",
    "    res = [1 for _ in range(len(arr))]\n",
    "    \n",
    "    running_prod = 1\n",
    "    \n",
    "    for idx, val in enumerate(arr):\n",
    "        res[idx] = running_prod\n",
    "        running_prod *= val\n",
    "        \n",
    "    return res"
   ]
  },
  {
   "cell_type": "code",
   "execution_count": 14,
   "id": "c35d4dd1",
   "metadata": {},
   "outputs": [
    {
     "data": {
      "text/plain": [
       "[1, 5, 5, 20]"
      ]
     },
     "execution_count": 14,
     "metadata": {},
     "output_type": "execute_result"
    }
   ],
   "source": [
    "left_running_product([5, 1, 4, 2])"
   ]
  },
  {
   "cell_type": "code",
   "execution_count": 16,
   "id": "c081b708",
   "metadata": {},
   "outputs": [],
   "source": [
    "def right_running_product(arr: list[float]) -> list[float]:\n",
    "    '''\n",
    "    '''    \n",
    "    \n",
    "    res = [1 for _ in range(len(arr))]\n",
    "    \n",
    "    running_prod = 1\n",
    "    \n",
    "    for idx in range(len(arr)-1,-1,-1):\n",
    "        res[idx] = running_prod\n",
    "        running_prod *= arr[idx]\n",
    "        \n",
    "    return res"
   ]
  },
  {
   "cell_type": "code",
   "execution_count": 17,
   "id": "bad2c441",
   "metadata": {},
   "outputs": [
    {
     "data": {
      "text/plain": [
       "[8, 8, 2, 1]"
      ]
     },
     "execution_count": 17,
     "metadata": {},
     "output_type": "execute_result"
    }
   ],
   "source": [
    "right_running_product([5, 1, 4, 2])"
   ]
  },
  {
   "cell_type": "code",
   "execution_count": 8,
   "id": "f15ce39b",
   "metadata": {},
   "outputs": [],
   "source": [
    "def running_product(arr: list[float]) -> list[float]:\n",
    "    '''\n",
    "    '''    \n",
    "    \n",
    "    res = [1 for _ in range(len(arr))]\n",
    "    \n",
    "    running_prod = 1\n",
    "    \n",
    "    for idx, val in enumerate(arr):\n",
    "        running_prod *= val\n",
    "        res[idx] = running_prod\n",
    "        \n",
    "    return res"
   ]
  },
  {
   "cell_type": "code",
   "execution_count": 9,
   "id": "9d30c1ba",
   "metadata": {},
   "outputs": [
    {
     "data": {
      "text/plain": [
       "[5, 5, 20, 40]"
      ]
     },
     "execution_count": 9,
     "metadata": {},
     "output_type": "execute_result"
    }
   ],
   "source": [
    "running_product([5, 1, 4, 2])"
   ]
  },
  {
   "cell_type": "code",
   "execution_count": 4,
   "id": "0ff34ed3",
   "metadata": {},
   "outputs": [],
   "source": [
    "def running_sum(arr: list[float]) -> list[float]:\n",
    "    '''\n",
    "    '''    \n",
    "    running_sum = 0\n",
    "    \n",
    "    res = [0 for _ in range(len(arr))]\n",
    "    \n",
    "    for idx, val in enumerate(arr):\n",
    "        running_sum += val\n",
    "        res[idx] = running_sum\n",
    "        \n",
    "    return res"
   ]
  },
  {
   "cell_type": "code",
   "execution_count": 5,
   "id": "9091bca6",
   "metadata": {},
   "outputs": [
    {
     "data": {
      "text/plain": [
       "[5, 6, 10, 12]"
      ]
     },
     "execution_count": 5,
     "metadata": {},
     "output_type": "execute_result"
    }
   ],
   "source": [
    "running_sum([5, 1, 4, 2])"
   ]
  }
 ],
 "metadata": {
  "kernelspec": {
   "display_name": "python3.9",
   "language": "python",
   "name": "python3.9"
  },
  "language_info": {
   "codemirror_mode": {
    "name": "ipython",
    "version": 3
   },
   "file_extension": ".py",
   "mimetype": "text/x-python",
   "name": "python",
   "nbconvert_exporter": "python",
   "pygments_lexer": "ipython3",
   "version": "3.9.2"
  }
 },
 "nbformat": 4,
 "nbformat_minor": 5
}
