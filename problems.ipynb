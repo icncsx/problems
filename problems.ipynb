{
 "cells": [
  {
   "cell_type": "code",
   "execution_count": null,
   "id": "89e804af",
   "metadata": {},
   "outputs": [],
   "source": [
    "# flips like this everytime...\n",
    "def light(time, cycle):\n",
    "    calculation = time % (2 * cycle)\n",
    "    \n",
    "    # at time t, lights are always green\n",
    "    # or hugging left side of the flip (still green)\n",
    "    if time == 0 or (calculation >= 0 and calculation < cycle):\n",
    "        return \"green\"\n",
    "    else:\n",
    "        return \"red\"\n",
    "    \n",
    "def on_light(position, lights):\n",
    "    return position in lights\n",
    "\n",
    "def calculate_time(lights, cycles, destinations):\n",
    "    position = 0\n",
    "    \n",
    "    light_pos_to_cycle = {} # { 1: 3 }\n",
    "    for idx in range(0, len(lights)):\n",
    "        light_pos = lights[idx]\n",
    "        light_pos_to_cycle[light_pos] = cycles[idx]\n",
    "    \n",
    "    time = 0\n",
    "    for destination in destinations:\n",
    "        while position != destination: # while we haven't reached the destination...\n",
    "            increment = 0\n",
    "            if (destination - position) > 0:\n",
    "                increment = 1\n",
    "            elif (destination - position) < 0:\n",
    "                increment = -1\n",
    "            \n",
    "            # check whether I am on a light\n",
    "            if on_light(position, light_pos_to_cycle):\n",
    "                cycle = light_pos_to_cycle[position]\n",
    "                # check to make sure it's green light\n",
    "                if light(time, cycle) == \"green\":\n",
    "                    print(\"Y\")\n",
    "                    # increment position\n",
    "                    position += increment\n",
    "            else:\n",
    "                position += increment\n",
    "                \n",
    "            # increment time\n",
    "            time += 1\n",
    "    \n",
    "    return time"
   ]
  },
  {
   "cell_type": "code",
   "execution_count": 205,
   "id": "4252f394",
   "metadata": {},
   "outputs": [],
   "source": [
    "calculate_time([-1, 2], [1,3], [3, -2])"
   ]
  },
  {
   "cell_type": "code",
   "execution_count": 206,
   "id": "875b9b33",
   "metadata": {},
   "outputs": [
    {
     "data": {
      "text/plain": [
       "'green'"
      ]
     },
     "execution_count": 206,
     "metadata": {},
     "output_type": "execute_result"
    }
   ],
   "source": [
    "light(0, 3)"
   ]
  },
  {
   "cell_type": "code",
   "execution_count": 207,
   "id": "435833cb",
   "metadata": {},
   "outputs": [
    {
     "data": {
      "text/plain": [
       "'green'"
      ]
     },
     "execution_count": 207,
     "metadata": {},
     "output_type": "execute_result"
    }
   ],
   "source": [
    "light(1, 3)"
   ]
  },
  {
   "cell_type": "code",
   "execution_count": 208,
   "id": "959974a1",
   "metadata": {},
   "outputs": [
    {
     "data": {
      "text/plain": [
       "'green'"
      ]
     },
     "execution_count": 208,
     "metadata": {},
     "output_type": "execute_result"
    }
   ],
   "source": [
    "light(2, 3)"
   ]
  },
  {
   "cell_type": "code",
   "execution_count": 210,
   "id": "48cfca8c",
   "metadata": {},
   "outputs": [
    {
     "data": {
      "text/plain": [
       "'red'"
      ]
     },
     "execution_count": 210,
     "metadata": {},
     "output_type": "execute_result"
    }
   ],
   "source": [
    "light(3, 3)"
   ]
  },
  {
   "cell_type": "code",
   "execution_count": 211,
   "id": "b2d8b1d1",
   "metadata": {},
   "outputs": [
    {
     "data": {
      "text/plain": [
       "'red'"
      ]
     },
     "execution_count": 211,
     "metadata": {},
     "output_type": "execute_result"
    }
   ],
   "source": [
    "light(4, 3)"
   ]
  },
  {
   "cell_type": "code",
   "execution_count": 212,
   "id": "e08e73b9",
   "metadata": {},
   "outputs": [
    {
     "data": {
      "text/plain": [
       "'red'"
      ]
     },
     "execution_count": 212,
     "metadata": {},
     "output_type": "execute_result"
    }
   ],
   "source": [
    "light(5, 3)"
   ]
  },
  {
   "cell_type": "code",
   "execution_count": 213,
   "id": "5eded8f8",
   "metadata": {},
   "outputs": [
    {
     "data": {
      "text/plain": [
       "'green'"
      ]
     },
     "execution_count": 213,
     "metadata": {},
     "output_type": "execute_result"
    }
   ],
   "source": [
    "light(6, 3)"
   ]
  },
  {
   "cell_type": "code",
   "execution_count": null,
   "id": "c6fc04c4",
   "metadata": {},
   "outputs": [],
   "source": [
    "0, 1, 2  (green)\n",
    "3, 4, 5  (red)\n",
    "6, 7, 8  (green)\n",
    "9, 10,11 (red)"
   ]
  },
  {
   "cell_type": "code",
   "execution_count": 309,
   "id": "1118a8d4",
   "metadata": {},
   "outputs": [],
   "source": [
    "def clean_orange_exists(matrix):\n",
    "    for row in range(0, len(matrix)):\n",
    "        for col in range(0, len(matrix[row])):\n",
    "            if matrix[row][col] == 1:\n",
    "                return True\n",
    "                \n",
    "    return False"
   ]
  },
  {
   "cell_type": "code",
   "execution_count": 252,
   "id": "b8500c96",
   "metadata": {},
   "outputs": [],
   "source": [
    "def getAdjacentPositions(row, col, matrix):\n",
    "    adjacentPositions = []\n",
    "\n",
    "    # top\n",
    "    if row > 0:\n",
    "        adjacentPositions.append([row-1, col])\n",
    "\n",
    "    # bottom\n",
    "    if row < len(matrix)-1:\n",
    "        adjacentPositions.append([row+1, col])\n",
    "\n",
    "    # left\n",
    "    if col > 0:\n",
    "        adjacentPositions.append([row, col-1])\n",
    "\n",
    "    # right\n",
    "    if col < len(matrix[row])-1:\n",
    "        adjacentPositions.append([row, col+1])\n",
    "\n",
    "    return adjacentPositions"
   ]
  },
  {
   "cell_type": "code",
   "execution_count": 275,
   "id": "e23a5f03",
   "metadata": {},
   "outputs": [],
   "source": [
    "def get_all_rotten(matrix):\n",
    "    pos = []\n",
    "    for row in range(0, len(matrix)):\n",
    "        for col in range(0, len(matrix[row])):\n",
    "            if matrix[row][col] == 2:\n",
    "                pos.append([row, col])\n",
    "    \n",
    "    return pos"
   ]
  },
  {
   "cell_type": "code",
   "execution_count": 310,
   "id": "e094f063",
   "metadata": {},
   "outputs": [],
   "source": [
    "def min_number_of_passes(matrix):\n",
    "    queue = get_all_rotten(matrix)\n",
    "    passes = 0\n",
    "    \n",
    "    while len(queue):\n",
    "        limit = len(queue)\n",
    "        while limit > 0:\n",
    "            row, col = queue.pop(0)\n",
    "            adjacent_positions = getAdjacentPositions(row, col, matrix) # these are all 2's\n",
    "            for row_, col_ in adjacent_positions:\n",
    "                if matrix[row_][col_] == 1:\n",
    "                    matrix[row_][col_] = 2 # make rotten (becomes 2's)\n",
    "                    queue.append([row_, col_])\n",
    "            \n",
    "            limit -= 1\n",
    "            \n",
    "        passes += 1\n",
    "        \n",
    "    return passes - 1 if not clean_orange_exists(matrix) else -1"
   ]
  },
  {
   "cell_type": "code",
   "execution_count": 311,
   "id": "adc85768",
   "metadata": {},
   "outputs": [
    {
     "data": {
      "text/plain": [
       "4"
      ]
     },
     "execution_count": 311,
     "metadata": {},
     "output_type": "execute_result"
    }
   ],
   "source": [
    "min_number_of_passes(\n",
    "    [\n",
    "        [2,1,1],\n",
    "        [1,1,1],\n",
    "        [0,1,1]\n",
    "    ]\n",
    ")"
   ]
  },
  {
   "cell_type": "code",
   "execution_count": 312,
   "id": "041b5766",
   "metadata": {},
   "outputs": [
    {
     "data": {
      "text/plain": [
       "-1"
      ]
     },
     "execution_count": 312,
     "metadata": {},
     "output_type": "execute_result"
    }
   ],
   "source": [
    "min_number_of_passes(\n",
    "    [\n",
    "        [2,1,1],\n",
    "        [0,1,1],\n",
    "        [1,0,1]\n",
    "    ]\n",
    ")"
   ]
  },
  {
   "cell_type": "code",
   "execution_count": 313,
   "id": "71d31a2c",
   "metadata": {},
   "outputs": [],
   "source": [
    "def last_idx_reachable(array: list[int]) -> bool:\n",
    "    idx = 0\n",
    "    if array[idx] == 0:\n",
    "        return False\n",
    "    \n",
    "    return helper(array, idx)\n",
    "\n",
    "def helper(array, idx):\n",
    "    if idx > len(array)-1:\n",
    "        return False\n",
    "    \n",
    "    if idx == len(array)-1:\n",
    "        return True\n",
    "    \n",
    "    boost = array[idx]\n",
    "    range_of_steps = range(1, boost+1)\n",
    "    \n",
    "    is_valid = False\n",
    "    for step in range_of_steps:\n",
    "        if helper(array, idx+step):\n",
    "            is_valid = True\n",
    "       \n",
    "    return is_valid\n",
    "\n",
    "    \n",
    "# print(last_idx_reachable([2,3,1,1,4]))\n",
    "# print(last_idx_reachable([3,2,1,0,4]))"
   ]
  },
  {
   "cell_type": "code",
   "execution_count": 319,
   "id": "7af84b62",
   "metadata": {},
   "outputs": [
    {
     "data": {
      "text/plain": [
       "True"
      ]
     },
     "execution_count": 319,
     "metadata": {},
     "output_type": "execute_result"
    }
   ],
   "source": [
    "def canJump(nums):\n",
    "    n = len(nums)-1\n",
    "    for i in range(n-1,-1,-1):\n",
    "        if nums[i] + i >= n: # n = 2\n",
    "            n = i\n",
    "    return n == 0\n",
    "\n",
    "canJump([3,0,10,3,4])"
   ]
  }
 ],
 "metadata": {
  "kernelspec": {
   "display_name": "python3.9",
   "language": "python",
   "name": "python3.9"
  },
  "language_info": {
   "codemirror_mode": {
    "name": "ipython",
    "version": 3
   },
   "file_extension": ".py",
   "mimetype": "text/x-python",
   "name": "python",
   "nbconvert_exporter": "python",
   "pygments_lexer": "ipython3",
   "version": "3.9.2"
  }
 },
 "nbformat": 4,
 "nbformat_minor": 5
}
