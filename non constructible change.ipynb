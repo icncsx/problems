{
 "cells": [
  {
   "cell_type": "code",
   "execution_count": 11,
   "id": "3a8dd9e1",
   "metadata": {},
   "outputs": [
    {
     "data": {
      "text/plain": [
       "20"
      ]
     },
     "execution_count": 11,
     "metadata": {},
     "output_type": "execute_result"
    }
   ],
   "source": [
    "def non_constructible_change(coins: list[int]) -> int:\n",
    "    '''\n",
    "    given an array of positive integers representing the values of coins in your posession, write a function\n",
    "    that returns the minimum amount of change (the minium sum of money that you cannot create)\n",
    "    \n",
    "    [1,2] 3\n",
    "    [1,3] 2\n",
    "    [1,1,3]\n",
    "    [1,1,2,3,5,7,22]\n",
    "    '''\n",
    "    \n",
    "    sorted_coins = sorted(coins)\n",
    "    \n",
    "    minimum_change = 0\n",
    "    \n",
    "    for val in sorted_coins:\n",
    "        if val > minimum_change + 1:\n",
    "            return minimum_change + 1\n",
    "        \n",
    "        minimum_change += val\n",
    "        \n",
    "    return minimum_change + 1\n",
    "    \n",
    "non_constructible_change([5,7,1,1,2,3,22])"
   ]
  },
  {
   "cell_type": "code",
   "execution_count": 10,
   "id": "0031ec3e",
   "metadata": {},
   "outputs": [
    {
     "name": "stdout",
     "output_type": "stream",
     "text": [
      "y\n"
     ]
    },
    {
     "data": {
      "text/plain": [
       "2"
      ]
     },
     "execution_count": 10,
     "metadata": {},
     "output_type": "execute_result"
    }
   ],
   "source": [
    "def non_constructible_change(coins: list[int]) -> int:\n",
    "    '''\n",
    "    given an array of positive integers representing the values of coins in your posession, write a function\n",
    "    that returns the minimum amount of change (the minium sum of money that you cannot create)\n",
    "    \n",
    "    [1,2] 3\n",
    "    [1,3] 2\n",
    "    [1,1,3]\n",
    "    [1,1,2,3,5,7,22]\n",
    "    '''\n",
    "    \n",
    "    sorted_coins = sorted(coins)\n",
    "    \n",
    "    minimum_change = 1\n",
    "    \n",
    "    for val in sorted_coins:\n",
    "        if val > minimum_change:\n",
    "            print('y')\n",
    "            return minimum_change\n",
    "        \n",
    "        minimum_change += val\n",
    "        \n",
    "    print('x')\n",
    "    return minimum_change\n",
    "  \n",
    "non_constructible_change([1,3])    \n",
    "# non_constructible_change([5,7,1,1,2,3,22])"
   ]
  }
 ],
 "metadata": {
  "kernelspec": {
   "display_name": "python3.9",
   "language": "python",
   "name": "python3.9"
  },
  "language_info": {
   "codemirror_mode": {
    "name": "ipython",
    "version": 3
   },
   "file_extension": ".py",
   "mimetype": "text/x-python",
   "name": "python",
   "nbconvert_exporter": "python",
   "pygments_lexer": "ipython3",
   "version": "3.9.2"
  }
 },
 "nbformat": 4,
 "nbformat_minor": 5
}
