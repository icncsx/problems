{
 "cells": [
  {
   "cell_type": "code",
   "execution_count": 1,
   "id": "20b18ca3",
   "metadata": {},
   "outputs": [],
   "source": [
    "def find_number_of_digits(number: int) -> int:\n",
    "    count = 0\n",
    "    while number:\n",
    "        count += 1\n",
    "        number = number // 10\n",
    "        \n",
    "    return count\n",
    "    \n",
    "def encode(number: int) -> int:\n",
    "    '''\n",
    "    19999999999  -> 1{1} 10{9}        \n",
    "    99999999991  -> 10{9} 1{1}                \n",
    "    '''\n",
    "    \n",
    "    res = 0\n",
    "    multiplier = 1\n",
    "    \n",
    "    while number > 0:\n",
    "        \n",
    "        count = 0\n",
    "        mod_ = number % 10\n",
    "\n",
    "        while number % 10 == mod_:\n",
    "            count += 1\n",
    "            number = number // 10\n",
    "            \n",
    "        # 9 + 10 * 10\n",
    "        intermediate = mod_ + count * 10\n",
    "        \n",
    "        res += intermediate * multiplier\n",
    "        \n",
    "        multiplier = 10 ** find_number_of_digits(res)\n",
    "    \n",
    "    return res"
   ]
  },
  {
   "cell_type": "code",
   "execution_count": 2,
   "id": "e0e0ab40",
   "metadata": {},
   "outputs": [
    {
     "data": {
      "text/plain": [
       "39"
      ]
     },
     "execution_count": 2,
     "metadata": {},
     "output_type": "execute_result"
    }
   ],
   "source": [
    "encode(999)"
   ]
  },
  {
   "cell_type": "code",
   "execution_count": 3,
   "id": "630c93ca",
   "metadata": {},
   "outputs": [
    {
     "data": {
      "text/plain": [
       "11109"
      ]
     },
     "execution_count": 3,
     "metadata": {},
     "output_type": "execute_result"
    }
   ],
   "source": [
    "encode(19999999999)"
   ]
  },
  {
   "cell_type": "code",
   "execution_count": 4,
   "id": "39fb0cbc",
   "metadata": {},
   "outputs": [
    {
     "data": {
      "text/plain": [
       "1112131415"
      ]
     },
     "execution_count": 4,
     "metadata": {},
     "output_type": "execute_result"
    }
   ],
   "source": [
    "encode(12345)"
   ]
  }
 ],
 "metadata": {
  "kernelspec": {
   "display_name": "python3.9",
   "language": "python",
   "name": "python3.9"
  },
  "language_info": {
   "codemirror_mode": {
    "name": "ipython",
    "version": 3
   },
   "file_extension": ".py",
   "mimetype": "text/x-python",
   "name": "python",
   "nbconvert_exporter": "python",
   "pygments_lexer": "ipython3",
   "version": "3.9.2"
  }
 },
 "nbformat": 4,
 "nbformat_minor": 5
}
