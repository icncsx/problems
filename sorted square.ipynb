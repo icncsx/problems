{
 "cells": [
  {
   "cell_type": "code",
   "execution_count": 19,
   "id": "286fc25b",
   "metadata": {},
   "outputs": [],
   "source": [
    "def sorted_square(arr: list[int]) -> list[int]:\n",
    "    '''\n",
    "    Write a function that takes in a non-empty array of integers that are sorted in ascending order\n",
    "    Return a new array of the same length with the squares of the original integers sorted in ascendsing order.\n",
    "    \n",
    "    Left and right pointer.\n",
    "    Increment inward.\n",
    "    '''\n",
    "    \n",
    "    res = [0 for _ in range(len(arr))]\n",
    "    idx = len(arr)-1\n",
    "    \n",
    "    arr = sorted(arr)\n",
    "    \n",
    "    l = 0\n",
    "    r = len(arr) - 1\n",
    "    \n",
    "    # the maxima are going to be at the poles\n",
    "    # so yield those, we are going in reverse order essentially...\n",
    "    \n",
    "    while r > l:\n",
    "        lv = arr[l]\n",
    "        rv = arr[r]\n",
    "        \n",
    "        if abs(rv) > abs(lv):\n",
    "            res[idx] = rv ** 2\n",
    "            r -= 1            \n",
    "        elif abs(rv) <= abs(lv):\n",
    "            res[idx] = lv ** 2\n",
    "            l += 1\n",
    "            \n",
    "        idx -= 1\n",
    "            \n",
    "    return res"
   ]
  },
  {
   "cell_type": "code",
   "execution_count": 20,
   "id": "0cd494b7",
   "metadata": {},
   "outputs": [
    {
     "data": {
      "text/plain": [
       "[0, 16, 16, 36]"
      ]
     },
     "execution_count": 20,
     "metadata": {},
     "output_type": "execute_result"
    }
   ],
   "source": [
    "list(sorted_square([-4,-3,6,4]))"
   ]
  }
 ],
 "metadata": {
  "kernelspec": {
   "display_name": "python3.9",
   "language": "python",
   "name": "python3.9"
  },
  "language_info": {
   "codemirror_mode": {
    "name": "ipython",
    "version": 3
   },
   "file_extension": ".py",
   "mimetype": "text/x-python",
   "name": "python",
   "nbconvert_exporter": "python",
   "pygments_lexer": "ipython3",
   "version": "3.9.2"
  }
 },
 "nbformat": 4,
 "nbformat_minor": 5
}
