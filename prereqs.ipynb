{
 "cells": [
  {
   "cell_type": "code",
   "execution_count": null,
   "id": "6906218e",
   "metadata": {},
   "outputs": [],
   "source": [
    "# given a list of lists representing prereq: course, find the first course you need to take to take all courses\n",
    "# find the last course you need to take\n",
    "# find the middle course\n",
    "\n",
    "def find_mid(prereqs: list[list]) -> str:\n",
    "    res = {}\n",
    "    \n",
    "    prevs = set(map(lambda x: x[0], prereqs))\n",
    "    last = \"\"\n",
    "    \n",
    "    for prereq, course in prereqs:\n",
    "        res[course] = prereq\n",
    "        \n",
    "        if course not in prevs:\n",
    "            last = course       \n",
    "    \n",
    "    mid_idx = (len(prereqs) + 1) // 2\n",
    "    counter = 0\n",
    "\n",
    "    course = last\n",
    "    while counter != mid_idx:\n",
    "        course = res[course]\n",
    "        counter += 1\n",
    "        \n",
    "    return course\n",
    "\n",
    "find_mid(\n",
    "  [\n",
    "    [\"Software Design\", \"Computer Networks\"],\n",
    "    [\"Computer Networks\", \"Computer Architecture\"],\n",
    "    [\"Computer Architecture\", \"Data Structures\"],\n",
    "  ]\n",
    ")"
   ]
  },
  {
   "cell_type": "code",
   "execution_count": null,
   "id": "8d0e258f",
   "metadata": {},
   "outputs": [],
   "source": []
  },
  {
   "cell_type": "code",
   "execution_count": null,
   "id": "b9b654a0",
   "metadata": {},
   "outputs": [],
   "source": []
  },
  {
   "cell_type": "code",
   "execution_count": null,
   "id": "65c5a1b1",
   "metadata": {},
   "outputs": [],
   "source": [
    "# given a list of lists representing prereq: course, find the first course you need to take to take all courses\n",
    "# find the last course you need to take\n",
    "# find the middle course\n",
    "\n",
    "def find_first(prereqs: list[list]) -> str:\n",
    "    res = {}\n",
    "    \n",
    "    prevs = set(map(lambda x: x[0], prereqs))\n",
    "    last = \"\"\n",
    "    \n",
    "    for prereq, course in prereqs:\n",
    "        res[course] = prereq\n",
    "        \n",
    "        if course not in prevs:\n",
    "            last = course       \n",
    "    \n",
    "    mid_idx = (len(prereqs) + 1) // 2\n",
    "    counter = 0\n",
    "\n",
    "    course = last\n",
    "    while counter != mid_idx:\n",
    "        course = res[course]\n",
    "        counter += 1\n",
    "        \n",
    "    return course\n",
    "\n",
    "find_first(\n",
    "  [\n",
    "    [\"Software Design\", \"Computer Networks\"],\n",
    "    [\"Computer Networks\", \"Computer Architecture\"],\n",
    "    [\"Computer Architecture\", \"Data Structures\"],\n",
    "  ]\n",
    ")"
   ]
  }
 ],
 "metadata": {
  "kernelspec": {
   "display_name": "Python 3 (ipykernel)",
   "language": "python",
   "name": "python3"
  },
  "language_info": {
   "codemirror_mode": {
    "name": "ipython",
    "version": 3
   },
   "file_extension": ".py",
   "mimetype": "text/x-python",
   "name": "python",
   "nbconvert_exporter": "python",
   "pygments_lexer": "ipython3",
   "version": "3.9.2"
  }
 },
 "nbformat": 4,
 "nbformat_minor": 5
}
