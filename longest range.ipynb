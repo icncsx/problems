{
 "cells": [
  {
   "cell_type": "code",
   "execution_count": 5,
   "id": "236317f7",
   "metadata": {},
   "outputs": [
    {
     "data": {
      "text/plain": [
       "([0, 7], 8)"
      ]
     },
     "execution_count": 5,
     "metadata": {},
     "output_type": "execute_result"
    }
   ],
   "source": [
    "def longest_range(arr: list[int]):\n",
    "    seen = set()\n",
    "    \n",
    "    max_range = []\n",
    "    max_length = 0\n",
    "    \n",
    "    seen: dict[int, bool] = {}\n",
    "    \n",
    "    for val in arr:\n",
    "        seen[val] = False\n",
    "        \n",
    "    current_length = 0\n",
    "    for val in arr:\n",
    "        \n",
    "        if seen[val]:\n",
    "            continue\n",
    "            \n",
    "        seen[val] = True\n",
    "        # mark seen\n",
    "        \n",
    "        # check left and right\n",
    "        current_length = 1\n",
    "        left = val-1\n",
    "        right = val+1\n",
    "        \n",
    "        while left in seen:\n",
    "            # mark seen\n",
    "            seen[left] = True\n",
    "            left -= 1\n",
    "            \n",
    "        while right in seen:\n",
    "            # mark seen\n",
    "            seen[right] = True\n",
    "            right += 1\n",
    "            \n",
    "        # [1,5,2]\n",
    "        current_length = right - left - 1\n",
    "        if current_length > max_length:\n",
    "            max_length = current_length\n",
    "            max_range = [left+1, right-1]\n",
    "    \n",
    "    # [1,11,3,0,2] = [0, 2]\n",
    "    return max_range, max_length\n",
    "    ...\n",
    "    \n",
    "longest_range([1,11,3,0,15,5,2,4,10,7,12,6])"
   ]
  }
 ],
 "metadata": {
  "kernelspec": {
   "display_name": "python3.9",
   "language": "python",
   "name": "python3.9"
  },
  "language_info": {
   "codemirror_mode": {
    "name": "ipython",
    "version": 3
   },
   "file_extension": ".py",
   "mimetype": "text/x-python",
   "name": "python",
   "nbconvert_exporter": "python",
   "pygments_lexer": "ipython3",
   "version": "3.9.2"
  }
 },
 "nbformat": 4,
 "nbformat_minor": 5
}
