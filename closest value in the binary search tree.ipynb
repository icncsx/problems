{
 "cells": [
  {
   "cell_type": "code",
   "execution_count": 16,
   "id": "1b3fdc9e",
   "metadata": {},
   "outputs": [],
   "source": [
    "class BST:\n",
    "    def __init__(self, value):\n",
    "        self.value = value\n",
    "        self.left = None\n",
    "        self.right = None"
   ]
  },
  {
   "cell_type": "code",
   "execution_count": 20,
   "id": "f79872ec",
   "metadata": {},
   "outputs": [],
   "source": [
    "def closest_value(node, target):\n",
    "    \n",
    "    closest = node.value\n",
    "    \n",
    "    while node:\n",
    "        if abs(node.value - target) < abs(closest - target):\n",
    "            closest = node.value\n",
    "            \n",
    "        if node.value == target:\n",
    "            break\n",
    "            \n",
    "        if node.value > target:\n",
    "            node = node.left\n",
    "        elif node.value < target:\n",
    "            node = node.right\n",
    "            \n",
    "    return closest"
   ]
  },
  {
   "cell_type": "code",
   "execution_count": 21,
   "id": "528341ed",
   "metadata": {},
   "outputs": [],
   "source": [
    "ten = BST(10)\n",
    "\n",
    "ten.left = BST(5)\n",
    "ten.left.left = BST(2)\n",
    "ten.left.right = BST(5)\n",
    "\n",
    "ten.right = BST(15)\n",
    "ten.right.left = BST(13)\n",
    "ten.right.right = BST(22)"
   ]
  },
  {
   "cell_type": "code",
   "execution_count": 22,
   "id": "86dfc13a",
   "metadata": {},
   "outputs": [
    {
     "data": {
      "text/plain": [
       "22"
      ]
     },
     "execution_count": 22,
     "metadata": {},
     "output_type": "execute_result"
    }
   ],
   "source": [
    "closest_value(ten, 20)"
   ]
  },
  {
   "cell_type": "code",
   "execution_count": 10,
   "id": "ea65026d",
   "metadata": {},
   "outputs": [],
   "source": [
    "def helper(node, target, closest):\n",
    "    while node:\n",
    "        if abs(node.value - target) < abs(closest - target):\n",
    "            closest = node.value\n",
    "            \n",
    "        if node.value == target:\n",
    "            break\n",
    "            \n",
    "        if node.value > target:\n",
    "            return helper(node.left, target, closest)\n",
    "        elif node.value < target:\n",
    "            return helper(node.right, target, closest)\n",
    "            \n",
    "    return closest\n",
    "    \n",
    "def closest_value(node, target):\n",
    "    return helper(node, target, float(\"inf\"))"
   ]
  },
  {
   "cell_type": "code",
   "execution_count": 11,
   "id": "30a5c065",
   "metadata": {},
   "outputs": [],
   "source": [
    "ten = BST(10)\n",
    "\n",
    "ten.left = BST(5)\n",
    "ten.left.left = BST(2)\n",
    "ten.left.right = BST(5)\n",
    "\n",
    "ten.right = BST(15)\n",
    "ten.right.left = BST(13)\n",
    "ten.right.right = BST(22)"
   ]
  },
  {
   "cell_type": "code",
   "execution_count": 12,
   "id": "b52b9a19",
   "metadata": {},
   "outputs": [
    {
     "data": {
      "text/plain": [
       "22"
      ]
     },
     "execution_count": 12,
     "metadata": {},
     "output_type": "execute_result"
    }
   ],
   "source": [
    "closest_value(ten, 20)"
   ]
  }
 ],
 "metadata": {
  "kernelspec": {
   "display_name": "python3.9",
   "language": "python",
   "name": "python3.9"
  },
  "language_info": {
   "codemirror_mode": {
    "name": "ipython",
    "version": 3
   },
   "file_extension": ".py",
   "mimetype": "text/x-python",
   "name": "python",
   "nbconvert_exporter": "python",
   "pygments_lexer": "ipython3",
   "version": "3.9.2"
  }
 },
 "nbformat": 4,
 "nbformat_minor": 5
}
