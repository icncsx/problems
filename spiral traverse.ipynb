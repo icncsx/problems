{
 "cells": [
  {
   "cell_type": "code",
   "execution_count": 17,
   "id": "9189b1e4",
   "metadata": {},
   "outputs": [],
   "source": [
    "def spiral(arr: list[int]) -> list[int]:\n",
    "    \n",
    "    res = []\n",
    "    \n",
    "    start_col = 0\n",
    "    end_col = len(arr[0]) - 1\n",
    "    \n",
    "    start_row = 0\n",
    "    end_row = len(arr) - 1\n",
    "    \n",
    "    spiral_traverse(arr, res, start_col, end_col, start_row, end_row)\n",
    "    \n",
    "    return res\n",
    "\n",
    "def spiral_traverse(arr: list[int], res, start_col, end_col, start_row, end_row):\n",
    "    \n",
    "    # break condition (deMorgan's law)\n",
    "    if start_col > end_col or start_row > end_row:\n",
    "        return\n",
    "        \n",
    "    # right\n",
    "    for idx in range(start_col, end_col+1):\n",
    "        res.append(arr[start_row][idx])\n",
    "\n",
    "    # bottom\n",
    "    for idx in range(start_row+1, end_row+1):\n",
    "        res.append(arr[idx][end_col])\n",
    "\n",
    "    # left\n",
    "    if start_row != end_row:                \n",
    "        for idx in range(end_col-1,-1,-1):\n",
    "            res.append(arr[end_row][idx])\n",
    "\n",
    "    # top\n",
    "    if start_col != end_col:\n",
    "        for idx in range(end_row-1, start_row,-1):\n",
    "            res.append(arr[idx][start_col])\n",
    "\n",
    "    start_col += 1\n",
    "    end_col -= 1\n",
    "\n",
    "    start_row += 1\n",
    "    end_row -= 1\n",
    "\n",
    "    spiral_traverse(arr, res, start_col, end_col, start_row, end_row)"
   ]
  },
  {
   "cell_type": "code",
   "execution_count": 18,
   "id": "1c88172f",
   "metadata": {},
   "outputs": [
    {
     "data": {
      "text/plain": [
       "[1, 2, 3, 4, 5, 6, 7, 8, 9, 10, 11, 12, 13, 14, 15, 16, 11]"
      ]
     },
     "execution_count": 18,
     "metadata": {},
     "output_type": "execute_result"
    }
   ],
   "source": [
    "spiral([\n",
    "    [1,2,3,4],\n",
    "    [12,13,14,5],\n",
    "    [11,16,15,6],\n",
    "    [10,9,8,7],    \n",
    "])"
   ]
  },
  {
   "cell_type": "code",
   "execution_count": 13,
   "id": "9f7d7ed1",
   "metadata": {},
   "outputs": [],
   "source": [
    "def spiral_traverse(arr: list[int]) -> list[int]:\n",
    "    # traverse in a spiral way and get all the elements...\n",
    "    \n",
    "    start_col = 0\n",
    "    end_col = len(arr[0]) - 1\n",
    "    \n",
    "    start_row = 0\n",
    "    end_row = len(arr) - 1\n",
    "    \n",
    "    res = []\n",
    "    while start_col <= end_col and start_row <= end_row:\n",
    "        \n",
    "        '''\n",
    "        [[1]\n",
    "         [2]\n",
    "         [3]]\n",
    "        '''\n",
    "        \n",
    "        # right\n",
    "        for idx in range(start_col, end_col+1):\n",
    "            res.append(arr[start_row][idx])\n",
    "        \n",
    "        # bottom\n",
    "        for idx in range(start_row+1, end_row+1):\n",
    "            res.append(arr[idx][end_col])\n",
    "        \n",
    "        # left\n",
    "        if start_row != end_row:                \n",
    "            for idx in range(end_col-1,-1,-1):\n",
    "                res.append(arr[end_row][idx])\n",
    "\n",
    "        # top\n",
    "        if start_col != end_col:\n",
    "            for idx in range(end_row-1, start_row,-1):\n",
    "                res.append(arr[idx][start_col])\n",
    "                \n",
    "        start_col += 1\n",
    "        end_col -= 1\n",
    "        \n",
    "        start_row += 1\n",
    "        end_row -= 1\n",
    "\n",
    "    return res"
   ]
  },
  {
   "cell_type": "code",
   "execution_count": 15,
   "id": "423a1bf3",
   "metadata": {},
   "outputs": [
    {
     "data": {
      "text/plain": [
       "[1, 2, 3, 4, 5, 6, 7, 8, 9, 10, 11, 12, 13, 14, 15, 16, 11]"
      ]
     },
     "execution_count": 15,
     "metadata": {},
     "output_type": "execute_result"
    }
   ],
   "source": [
    "spiral_traverse([\n",
    "    [1,2,3,4],\n",
    "    [12,13,14,5],\n",
    "    [11,16,15,6],\n",
    "    [10,9,8,7],    \n",
    "])"
   ]
  }
 ],
 "metadata": {
  "kernelspec": {
   "display_name": "python3.9",
   "language": "python",
   "name": "python3.9"
  },
  "language_info": {
   "codemirror_mode": {
    "name": "ipython",
    "version": 3
   },
   "file_extension": ".py",
   "mimetype": "text/x-python",
   "name": "python",
   "nbconvert_exporter": "python",
   "pygments_lexer": "ipython3",
   "version": "3.9.2"
  }
 },
 "nbformat": 4,
 "nbformat_minor": 5
}
