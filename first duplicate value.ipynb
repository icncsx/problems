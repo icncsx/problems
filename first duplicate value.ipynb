{
 "cells": [
  {
   "cell_type": "code",
   "execution_count": null,
   "id": "b5322cd3",
   "metadata": {},
   "outputs": [],
   "source": [
    "def first_duplicate_value(arr: list[int]) -> int:\n",
    "    '''\n",
    "    most primal solution\n",
    "    '''\n",
    "    \n",
    "    min_idx = len(arr)\n",
    "    \n",
    "    for idx in range(0, len(arr)-1):\n",
    "        for idx_ in range(idx+1, len(arr)):\n",
    "            if arr[idx] == arr[idx_]:\n",
    "                # care about second idx here...\n",
    "                min_idx = min(min_idx, idx_)\n",
    "            \n",
    "    # if there are no duplicates\n",
    "    if min_idx == len(arr):\n",
    "        return -1\n",
    "    \n",
    "    return arr[min_idx]\n",
    "\n",
    "first_duplicate_value([2,1,5,2,3,3,4])"
   ]
  },
  {
   "cell_type": "code",
   "execution_count": 1,
   "id": "3dbaff6e",
   "metadata": {},
   "outputs": [
    {
     "data": {
      "text/plain": [
       "2"
      ]
     },
     "execution_count": 1,
     "metadata": {},
     "output_type": "execute_result"
    }
   ],
   "source": [
    "def first_duplicate_value(arr: list[int]) -> int:\n",
    "    '''\n",
    "    optimal but not the best space complexity\n",
    "    '''\n",
    "    seen = set()\n",
    "    \n",
    "    for n in arr:\n",
    "        if n in seen:\n",
    "            return n\n",
    "        seen.add(n)\n",
    "\n",
    "    return -1\n",
    "\n",
    "first_duplicate_value([2,1,5,2,3,3,4])"
   ]
  },
  {
   "cell_type": "code",
   "execution_count": 4,
   "id": "695449ed",
   "metadata": {},
   "outputs": [
    {
     "data": {
      "text/plain": [
       "2"
      ]
     },
     "execution_count": 4,
     "metadata": {},
     "output_type": "execute_result"
    }
   ],
   "source": [
    "# the most optimal solution\n",
    "# array of integers between 1 and n where n is the length of the array...\n",
    "\n",
    "def first_duplicate_value(arr: list[int]) -> int:\n",
    "    '''\n",
    "    given an array of integers between 1 and n, inclusive, where n is the length of the array, write a function\n",
    "    that returns the first integer that appears more than once (when the array is read from left to right)\n",
    "    \n",
    "    taking advantage of positive integers here...\n",
    "    '''\n",
    "    \n",
    "    for idx, val in enumerate(arr):\n",
    "        \n",
    "        val = abs(val)\n",
    "        idx_ = val-1\n",
    "        \n",
    "        if arr[idx_] < 0:\n",
    "            return val\n",
    "        \n",
    "        arr[idx_] = arr[idx_] * -1\n",
    "    \n",
    "    return -1\n",
    "\n",
    "first_duplicate_value([2,1,5,2,3,3,4])"
   ]
  }
 ],
 "metadata": {
  "kernelspec": {
   "display_name": "python3.9",
   "language": "python",
   "name": "python3.9"
  },
  "language_info": {
   "codemirror_mode": {
    "name": "ipython",
    "version": 3
   },
   "file_extension": ".py",
   "mimetype": "text/x-python",
   "name": "python",
   "nbconvert_exporter": "python",
   "pygments_lexer": "ipython3",
   "version": "3.9.2"
  }
 },
 "nbformat": 4,
 "nbformat_minor": 5
}
