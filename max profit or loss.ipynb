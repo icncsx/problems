{
 "cells": [
  {
   "cell_type": "code",
   "execution_count": 6,
   "id": "2e7a786e",
   "metadata": {},
   "outputs": [
    {
     "data": {
      "text/plain": [
       "16"
      ]
     },
     "execution_count": 6,
     "metadata": {},
     "output_type": "execute_result"
    }
   ],
   "source": [
    " def max_bump(arr: list[float]) -> int:\n",
    "    \n",
    "    min_ = min(arr[0], arr[1])    \n",
    "    max_bump = arr[1] - arr[0]\n",
    "    \n",
    "    for idx in range(2, len(arr)):\n",
    "        cv = arr[idx]\n",
    "        \n",
    "        max_bump = max(max_bump, cv - min_)\n",
    "        min_ = min(min_, cv)\n",
    "\n",
    "    return max_bump\n",
    "\n",
    "max_profit([45, 24, 35, 31, 40, 38, 11])"
   ]
  },
  {
   "cell_type": "code",
   "execution_count": 8,
   "id": "25598e8f",
   "metadata": {},
   "outputs": [
    {
     "data": {
      "text/plain": [
       "34"
      ]
     },
     "execution_count": 8,
     "metadata": {},
     "output_type": "execute_result"
    }
   ],
   "source": [
    "def max_drop(arr: list[float]) -> int:\n",
    "    \n",
    "    max_ = max(arr[0], arr[1])    \n",
    "    max_drop = arr[0] - arr[1] # positive drop\n",
    "    \n",
    "    for idx in range(2, len(arr)):\n",
    "        cv = arr[idx]\n",
    "        \n",
    "        max_drop = max(max_drop, max_-cv)\n",
    "        max_ = max(max_, cv)\n",
    "\n",
    "    return max_drop\n",
    "\n",
    "max_drop([45, 24, 35, 31, 40, 38, 11])"
   ]
  }
 ],
 "metadata": {
  "kernelspec": {
   "display_name": "python3.9",
   "language": "python",
   "name": "python3.9"
  },
  "language_info": {
   "codemirror_mode": {
    "name": "ipython",
    "version": 3
   },
   "file_extension": ".py",
   "mimetype": "text/x-python",
   "name": "python",
   "nbconvert_exporter": "python",
   "pygments_lexer": "ipython3",
   "version": "3.9.2"
  }
 },
 "nbformat": 4,
 "nbformat_minor": 5
}
