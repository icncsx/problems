{
 "cells": [
  {
   "cell_type": "code",
   "execution_count": 7,
   "id": "e6be6417",
   "metadata": {},
   "outputs": [],
   "source": [
    "def is_valid_subsequence(seq: Iterable[object], sub_seq: list[object]) -> bool:\n",
    "    '''\n",
    "    iterate through the sequence w/ for-loop\n",
    "    really intuitive to iterate through the total sequence and not the subsequence...\n",
    "    '''\n",
    "    \n",
    "    idx = 0\n",
    "    \n",
    "    for val in seq:\n",
    "        \n",
    "        if val == sub_seq[idx]:\n",
    "            idx += 1\n",
    "        \n",
    "        if idx == len(sub_seq):\n",
    "            return True\n",
    "    \n",
    "    return False"
   ]
  },
  {
   "cell_type": "code",
   "execution_count": 11,
   "id": "b1d97d66",
   "metadata": {},
   "outputs": [],
   "source": [
    "def is_valid_subsequence(seq: list[object], sub_seq: list[object]) -> bool:\n",
    "    '''\n",
    "    iterate through the sequence w/ while loop\n",
    "    '''\n",
    "    \n",
    "    l = 0\n",
    "    r = 0\n",
    "    \n",
    "    while l < len(seq) and r < len(sub_seq):\n",
    "        \n",
    "        if seq[l] == sub_seq[r]:\n",
    "            r += 1\n",
    "            \n",
    "        l += 1\n",
    "        \n",
    "    return True if r == len(sub_seq) else False"
   ]
  },
  {
   "cell_type": "code",
   "execution_count": null,
   "id": "59785f4b",
   "metadata": {},
   "outputs": [],
   "source": [
    "def is_valid_subsequence(seq: list[object], sub_seq: list[object]) -> bool:\n",
    "    '''\n",
    "    iterate through the subsequence\n",
    "    possibly harder to reason about\n",
    "    '''\n",
    "    \n",
    "    idx = 0\n",
    "    \n",
    "    for val in sub_seq:\n",
    "        \n",
    "        # not bounded (implies that we never found a match)\n",
    "        if idx >= len(seq):\n",
    "            return False        \n",
    "        \n",
    "        # bounded and the values don't match\n",
    "        while idx < len(seq) and val != seq[idx]:\n",
    "            idx += 1\n",
    "        \n",
    "        # either not bounded or a match\n",
    "        # if it is a match, we increment\n",
    "        # if it is not bounded, we still increment and catch it in the next for-loop\n",
    "        idx += 1\n",
    "    \n",
    "    return True"
   ]
  },
  {
   "cell_type": "code",
   "execution_count": 36,
   "id": "b39c8ffe",
   "metadata": {},
   "outputs": [],
   "source": [
    "def is_valid_subsequence(seq: list[object], sub_seq: list[object]) -> bool:\n",
    "    '''\n",
    "    iterate through the subsequence\n",
    "    possibly harder to reason about\n",
    "    '''\n",
    "    \n",
    "    idx = 0\n",
    "    \n",
    "    for val in sub_seq:\n",
    "        \n",
    "        # bounded and the values don't match\n",
    "        while idx < len(seq) and val != seq[idx]:\n",
    "            idx += 1\n",
    "          \n",
    "        # not bounded (implies that we never found a match)\n",
    "        if idx == len(seq):\n",
    "            return False\n",
    "        \n",
    "        # a match, so increment\n",
    "        idx += 1\n",
    "    \n",
    "    return True"
   ]
  },
  {
   "cell_type": "code",
   "execution_count": 2,
   "id": "d1e053d9",
   "metadata": {},
   "outputs": [
    {
     "data": {
      "text/plain": [
       "False"
      ]
     },
     "execution_count": 2,
     "metadata": {},
     "output_type": "execute_result"
    }
   ],
   "source": [
    "is_valid_subsequence([5,1,22,25,6,-1,8,10],[1,6,-1,10,12])"
   ]
  },
  {
   "cell_type": "code",
   "execution_count": 3,
   "id": "d5613072",
   "metadata": {},
   "outputs": [
    {
     "data": {
      "text/plain": [
       "True"
      ]
     },
     "execution_count": 3,
     "metadata": {},
     "output_type": "execute_result"
    }
   ],
   "source": [
    "is_valid_subsequence([5,1,22,25,6,-1,8,10],[1,6,-1,10])"
   ]
  },
  {
   "cell_type": "code",
   "execution_count": 4,
   "id": "d5a4c5f1",
   "metadata": {},
   "outputs": [
    {
     "data": {
      "text/plain": [
       "True"
      ]
     },
     "execution_count": 4,
     "metadata": {},
     "output_type": "execute_result"
    }
   ],
   "source": [
    "is_valid_subsequence([5,1,22,25,6,-1,8,10],[1,6,-1,10])"
   ]
  }
 ],
 "metadata": {
  "kernelspec": {
   "display_name": "python3.9",
   "language": "python",
   "name": "python3.9"
  },
  "language_info": {
   "codemirror_mode": {
    "name": "ipython",
    "version": 3
   },
   "file_extension": ".py",
   "mimetype": "text/x-python",
   "name": "python",
   "nbconvert_exporter": "python",
   "pygments_lexer": "ipython3",
   "version": "3.9.2"
  }
 },
 "nbformat": 4,
 "nbformat_minor": 5
}
