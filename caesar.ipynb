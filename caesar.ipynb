{
 "cells": [
  {
   "cell_type": "code",
   "execution_count": 1,
   "id": "2c0b41ef",
   "metadata": {},
   "outputs": [
    {
     "data": {
      "text/plain": [
       "'abcdefghijklmnopqrstuvwxyz'"
      ]
     },
     "execution_count": 1,
     "metadata": {},
     "output_type": "execute_result"
    }
   ],
   "source": [
    "import string\n",
    "string.ascii_lowercase"
   ]
  },
  {
   "cell_type": "code",
   "execution_count": 2,
   "id": "9bf6575e",
   "metadata": {},
   "outputs": [],
   "source": [
    "def caesarCipherEncryptor(string, key):\n",
    "    '''\n",
    "    ord('a') = 97\n",
    "    chr(97)  = 'a'\n",
    "    '''\n",
    "    return \"\".join(map(lambda char: convert(char, key), string))\n",
    "\n",
    "def is_lower_case(char):\n",
    "    return True if char == char.lower() else False\n",
    "\n",
    "def is_upper_case(char):\n",
    "    return True if char == char.upper() else False\n",
    "\n",
    "def convert(char, key):\n",
    "    # key can be a multiple as well remember...\n",
    "    increment = key % 26\n",
    "\n",
    "    num = ord(char) + increment\n",
    "    # want to be bound by 97 and 122 (97+25)\n",
    "    \n",
    "    print(num)\n",
    "    \n",
    "    if is_lower_case(char):\n",
    "        print(\"lower\")\n",
    "        if num <= 122:\n",
    "            return chr(num)\n",
    "        elif num > 122:\n",
    "            # 123 as an example... \"z\" => \"a\"\n",
    "            print(96 + num % 122)\n",
    "            return chr(96 + num % 122)\n",
    "    \n",
    "    elif is_upper_case(char):\n",
    "        print(\"upper\")\n",
    "        print(num)\n",
    "        if num <= 90:\n",
    "            print(\"hi\")\n",
    "            return chr(num)\n",
    "        elif num > 90:\n",
    "            # 123 as an example... \"z\" => \"a\"\n",
    "            return chr(64 + num % 90)"
   ]
  },
  {
   "cell_type": "code",
   "execution_count": 3,
   "id": "7c45aa2e",
   "metadata": {},
   "outputs": [
    {
     "name": "stdout",
     "output_type": "stream",
     "text": [
      "145\n",
      "lower\n",
      "119\n"
     ]
    },
    {
     "data": {
      "text/plain": [
       "'w'"
      ]
     },
     "execution_count": 3,
     "metadata": {},
     "output_type": "execute_result"
    }
   ],
   "source": [
    "convert(\"y\", -2)"
   ]
  },
  {
   "cell_type": "code",
   "execution_count": null,
   "id": "5e1d182b",
   "metadata": {},
   "outputs": [],
   "source": []
  }
 ],
 "metadata": {
  "kernelspec": {
   "display_name": "Python 3 (ipykernel)",
   "language": "python",
   "name": "python3"
  },
  "language_info": {
   "codemirror_mode": {
    "name": "ipython",
    "version": 3
   },
   "file_extension": ".py",
   "mimetype": "text/x-python",
   "name": "python",
   "nbconvert_exporter": "python",
   "pygments_lexer": "ipython3",
   "version": "3.9.2"
  }
 },
 "nbformat": 4,
 "nbformat_minor": 5
}
