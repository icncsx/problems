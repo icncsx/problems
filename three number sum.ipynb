{
 "cells": [
  {
   "cell_type": "code",
   "execution_count": 27,
   "id": "bd6891f7",
   "metadata": {},
   "outputs": [],
   "source": [
    "def three_number_sum(arr: list[int], target_sum: int) -> list[list[int]]:\n",
    "    '''\n",
    "    Function should find all triplets in the array that sum up to the target sum and return a two-dimensional array\n",
    "    of all these triplets. The numbers in each triplet should be ordered in ascending order, adn teh triplets themselves should\n",
    "    be ordered in ascending order.\n",
    "    '''\n",
    "    \n",
    "    triplets = []\n",
    "    \n",
    "    sorted_arr = sorted(arr)\n",
    "    \n",
    "    for idx in range(0, len(arr)-2):\n",
    "        l = idx + 1\n",
    "        r = len(arr) - 1\n",
    "        \n",
    "        while r > l:\n",
    "            csum = sorted_arr[idx] + sorted_arr[l] + sorted_arr[r]\n",
    "            if csum == target_sum:\n",
    "                triplets.append([sorted_arr[idx], sorted_arr[l], sorted_arr[r]])\n",
    "                l += 1\n",
    "                r -= 1\n",
    "            elif csum > target_sum:\n",
    "                r -= 1\n",
    "            elif csum < target_sum:\n",
    "                l += 1\n",
    "                    \n",
    "    return triplets"
   ]
  },
  {
   "cell_type": "code",
   "execution_count": 28,
   "id": "c101253f",
   "metadata": {},
   "outputs": [
    {
     "data": {
      "text/plain": [
       "[[-8, 2, 6], [-8, 3, 5], [-6, 1, 5]]"
      ]
     },
     "execution_count": 28,
     "metadata": {},
     "output_type": "execute_result"
    }
   ],
   "source": [
    "three_number_sum([12,3,1,2,-6,5,-8,6], 0)"
   ]
  },
  {
   "cell_type": "code",
   "execution_count": 21,
   "id": "18583e0b",
   "metadata": {},
   "outputs": [],
   "source": [
    "def three_number_sum(arr: list[int], target_sum: int) -> list[list[int]]:\n",
    "    '''\n",
    "    same solution as the above but with triple for-loop\n",
    "    '''\n",
    "    \n",
    "    triplets = []\n",
    "    \n",
    "    for idx in range(0, len(arr)-2):\n",
    "        for idx_ in range(idx+1, len(arr)-1):\n",
    "            for idx__ in range(idx_+1, len(arr)):\n",
    "                \n",
    "                csum = arr[idx] + arr[idx_] + arr[idx__]\n",
    "                \n",
    "                if csum == target_sum:\n",
    "                    triplets.append([arr[idx], arr[idx_], arr[idx__]])\n",
    "                    \n",
    "    return triplets"
   ]
  },
  {
   "cell_type": "code",
   "execution_count": 22,
   "id": "7bd69e3a",
   "metadata": {},
   "outputs": [
    {
     "data": {
      "text/plain": [
       "[[3, 5, -8], [1, -6, 5], [2, -8, 6]]"
      ]
     },
     "execution_count": 22,
     "metadata": {},
     "output_type": "execute_result"
    }
   ],
   "source": [
    "three_number_sum([12,3,1,2,-6,5,-8,6], 0)"
   ]
  }
 ],
 "metadata": {
  "kernelspec": {
   "display_name": "python3.9",
   "language": "python",
   "name": "python3.9"
  },
  "language_info": {
   "codemirror_mode": {
    "name": "ipython",
    "version": 3
   },
   "file_extension": ".py",
   "mimetype": "text/x-python",
   "name": "python",
   "nbconvert_exporter": "python",
   "pygments_lexer": "ipython3",
   "version": "3.9.2"
  }
 },
 "nbformat": 4,
 "nbformat_minor": 5
}
