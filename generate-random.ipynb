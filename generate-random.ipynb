{
 "cells": [
  {
   "cell_type": "code",
   "execution_count": 1,
   "id": "175a0e40",
   "metadata": {},
   "outputs": [],
   "source": [
    "# Given a list of city names and their corresponding populations, write a function to output a random city name subject to the following constraint: the probability of the function to output a city's name is based on its population divided by the sum of all cities' population. Assume the function will be repeatedly called infinitely many times.\n",
    "# For example:\n",
    "# NY: 7M\n",
    "# SF: 5M \n",
    "# LA: 8M\n",
    "# → The probability to generate NY is 7/20, SF is 1/4.\n",
    "from random import random\n",
    "# 0.005\n",
    "# 0.005\n",
    "# 0.99\n",
    "random() \n",
    "# [0, 1], 0.45\n",
    "'''\n",
    "'''\n",
    "\n",
    "# NY: 7M\n",
    "# SF: 5M \n",
    "# LA: 8M\n",
    "# → The probability to generate NY is 7/20, SF is 1/4.\n",
    "\n",
    "def generate_random_city(data: dict[str, int]) -> str:\n",
    "    random_number = random() # [0, 1]\n",
    "\n",
    "    res = {}\n",
    "\n",
    "    population_total = sum(data.values())\n",
    "\n",
    "    for city, population in data.items():\n",
    "        res[city] = population / population_total\n",
    "\n",
    "    # { NY: 0.35, SF: 0.25, LA: 0.40 }\n",
    "    # 0.5\n",
    "\n",
    "    # { \"NY\" : 0.35... } \n",
    "\n",
    "    for city, probability in res.items():\n",
    "        # subtract random_number from the probability\n",
    "        # if the delta > 0, then we just return the city\n",
    "        # otherwise we move on to the next city\n",
    "        delta = probability - random_number \n",
    "\n",
    "        if delta > 0:\n",
    "            return city\n",
    "        \n",
    "        random_number -= probability\n",
    "    \n"
   ]
  }
 ],
 "metadata": {
  "kernelspec": {
   "display_name": "python3.9",
   "language": "python",
   "name": "python3.9"
  },
  "language_info": {
   "codemirror_mode": {
    "name": "ipython",
    "version": 3
   },
   "file_extension": ".py",
   "mimetype": "text/x-python",
   "name": "python",
   "nbconvert_exporter": "python",
   "pygments_lexer": "ipython3",
   "version": "3.9.2"
  }
 },
 "nbformat": 4,
 "nbformat_minor": 5
}
