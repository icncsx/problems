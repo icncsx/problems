{
 "cells": [
  {
   "cell_type": "code",
   "execution_count": 22,
   "id": "2622915c",
   "metadata": {},
   "outputs": [],
   "source": [
    "def move_element_to_end(arr: list[int], to_move: int) -> list[int]:\n",
    "    '''\n",
    "    Write a function that moves all instances of an integer in an array to the end of an array and return the array\n",
    "    \n",
    "    You may mutate the array in place\n",
    "    '''\n",
    "    \n",
    "    l = 0\n",
    "    r = len(arr)-1\n",
    "    \n",
    "    while r > l:\n",
    "        \n",
    "        # increment inward left until we find a !to_move\n",
    "        # increment inward right until we find a to_move\n",
    "        # swap and increment again...\n",
    "        \n",
    "        while r > l and arr[l] != to_move:\n",
    "            l += 1\n",
    "            \n",
    "        while r > l and arr[r] == to_move:\n",
    "            r -= 1\n",
    "        \n",
    "        # if (r < 0) or (l == len(arr)) or (r <= l):\n",
    "        if r <= l:\n",
    "            break\n",
    "            \n",
    "        arr[l], arr[r] = arr[r], arr[l]\n",
    "        \n",
    "        # increment inwards after making the swap\n",
    "        l += 1\n",
    "        r -= 1\n",
    "        \n",
    "    return arr"
   ]
  },
  {
   "cell_type": "code",
   "execution_count": 23,
   "id": "c608ad94",
   "metadata": {},
   "outputs": [
    {
     "data": {
      "text/plain": [
       "[2, 2, 2]"
      ]
     },
     "execution_count": 23,
     "metadata": {},
     "output_type": "execute_result"
    }
   ],
   "source": [
    "# move_element_to_end([1,1,1], 2)\n",
    "move_element_to_end([2,2,2], 2)"
   ]
  },
  {
   "cell_type": "code",
   "execution_count": 21,
   "id": "f90e69d4",
   "metadata": {},
   "outputs": [
    {
     "data": {
      "text/plain": [
       "[4, 1, 3, 2, 2, 2]"
      ]
     },
     "execution_count": 21,
     "metadata": {},
     "output_type": "execute_result"
    }
   ],
   "source": [
    "move_element_to_end([2,1,2,3,4,2], 2)"
   ]
  }
 ],
 "metadata": {
  "kernelspec": {
   "display_name": "python3.9",
   "language": "python",
   "name": "python3.9"
  },
  "language_info": {
   "codemirror_mode": {
    "name": "ipython",
    "version": 3
   },
   "file_extension": ".py",
   "mimetype": "text/x-python",
   "name": "python",
   "nbconvert_exporter": "python",
   "pygments_lexer": "ipython3",
   "version": "3.9.2"
  }
 },
 "nbformat": 4,
 "nbformat_minor": 5
}
