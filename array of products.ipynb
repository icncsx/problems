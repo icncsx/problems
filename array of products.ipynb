{
 "cells": [
  {
   "cell_type": "code",
   "execution_count": null,
   "id": "cfc0283a",
   "metadata": {},
   "outputs": [],
   "source": [
    "def array_of_products(arr: list[int]) -> list[int]:\n",
    "    '''\n",
    "    brute force\n",
    "    '''\n",
    "    \n",
    "    idx = 0\n",
    "    \n",
    "    products = []\n",
    "    \n",
    "    while idx < len(arr):\n",
    "        prod = 1\n",
    "        \n",
    "        # left prod\n",
    "        for idx_ in range(0,idx):\n",
    "            prod = prod * arr[idx_]\n",
    "        \n",
    "        # right prod\n",
    "        for idx_ in range(idx+1, len(arr)):\n",
    "            prod = prod * arr[idx_]\n",
    "            \n",
    "        products.append(prod)\n",
    "        \n",
    "        idx += 1\n",
    "\n",
    "    return products"
   ]
  },
  {
   "cell_type": "code",
   "execution_count": 51,
   "id": "79353715",
   "metadata": {},
   "outputs": [],
   "source": [
    "def array_of_products(arr: list[int]) -> list[int]:\n",
    "    '''\n",
    "    clever\n",
    "    \n",
    "    take the product of everything and just do the divide operation\n",
    "    \n",
    "    this assumes that we have a non-zero val... (this is a generous assumption)\n",
    "    '''\n",
    "    \n",
    "    prod = 1\n",
    "    for val in arr:\n",
    "        prod = prod * val\n",
    "        \n",
    "    products = []\n",
    "    \n",
    "    for val in arr:\n",
    "        products.append(prod // val)\n",
    "    \n",
    "    return products"
   ]
  },
  {
   "cell_type": "code",
   "execution_count": 48,
   "id": "b5f1cc2b",
   "metadata": {},
   "outputs": [],
   "source": [
    "def array_of_products(arr: list[int]) -> list[int]:\n",
    "    '''\n",
    "    [5, 1, 4, 2]\n",
    "    \n",
    "    [1, 5, 5, 20]\n",
    "    [8, 8, 2, 1]\n",
    "    \n",
    "    [8, 40, 10, 20]\n",
    "    '''\n",
    "    \n",
    "    products = [1 for _ in range(len(arr))]\n",
    "    left_products = [1 for _ in range(len(arr))]\n",
    "    right_products = [1 for _ in range(len(arr))]\n",
    "    \n",
    "    left_running_product = 1\n",
    "    for i in range(len(arr)):\n",
    "        left_products[i] = left_running_product\n",
    "        left_running_product *= arr[i]\n",
    "    \n",
    "    right_running_product = 1\n",
    "    for i in range(len(arr)-1,-1,-1):\n",
    "        right_products[i] = right_running_product\n",
    "        right_running_product *= arr[i]\n",
    "        \n",
    "    print(left_products)\n",
    "    print(right_products)\n",
    "        \n",
    "    for i in range(len(arr)):\n",
    "        # products.append(left_products[i] * right_products[i])\n",
    "        products[i] = left_products[i] * right_products[i]\n",
    "    \n",
    "    return products"
   ]
  },
  {
   "cell_type": "code",
   "execution_count": 50,
   "id": "f9f0f242",
   "metadata": {},
   "outputs": [
    {
     "name": "stdout",
     "output_type": "stream",
     "text": [
      "[1, 5, 5, 20]\n",
      "[8, 8, 2, 1]\n"
     ]
    },
    {
     "data": {
      "text/plain": [
       "[8, 40, 10, 20]"
      ]
     },
     "execution_count": 50,
     "metadata": {},
     "output_type": "execute_result"
    }
   ],
   "source": [
    "array_of_products([5,1,4,2])"
   ]
  },
  {
   "cell_type": "code",
   "execution_count": null,
   "id": "b22462a5",
   "metadata": {},
   "outputs": [],
   "source": [
    "# array_of_products([5,1,3,0,4,2])"
   ]
  }
 ],
 "metadata": {
  "kernelspec": {
   "display_name": "python3.9",
   "language": "python",
   "name": "python3.9"
  },
  "language_info": {
   "codemirror_mode": {
    "name": "ipython",
    "version": 3
   },
   "file_extension": ".py",
   "mimetype": "text/x-python",
   "name": "python",
   "nbconvert_exporter": "python",
   "pygments_lexer": "ipython3",
   "version": "3.9.2"
  }
 },
 "nbformat": 4,
 "nbformat_minor": 5
}
