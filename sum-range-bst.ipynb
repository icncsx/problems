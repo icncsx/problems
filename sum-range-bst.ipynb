{
 "cells": [
  {
   "cell_type": "code",
   "execution_count": 2,
   "id": "5b8f3cf8",
   "metadata": {},
   "outputs": [],
   "source": [
    "# You are given a binary search tree. Goal is to find the sum of all elements in the tree which are in range [low, high], inclusive.\n",
    "\n",
    "#               6\n",
    "#             /   \\\n",
    "#            4      8\n",
    "#           / \\    / \\\n",
    "#          3   5   7   9\n",
    "#         /\n",
    "#        2\n",
    "\n",
    "# Input: [2, 5] => 14\n",
    "# Input: [8, 9] => 17\n",
    "# Input: [4, 6] => 15\n",
    "# Input: [3, 10] => 42\n",
    "\n",
    "class Node:\n",
    "    ...\n",
    "\n",
    "# Input: [2, 5] => 14\n",
    "\n",
    "def sum_range_elements(node: Node, range_: tuple[int, int]) -> int:\n",
    "    data = {\n",
    "       \"sum\": 0\n",
    "    }\n",
    "    return helper(node, range_).get(\"sum\")\n",
    "\n",
    "    \n",
    "def helper(node: Node, range_: tuple[int, int], data: dict[str, int]) -> dict[str, int]:\n",
    "    floor, ceiling = range_\n",
    "\n",
    "    if node is None:\n",
    "        return\n",
    "\n",
    "    # inclusive\n",
    "    if (node.value <= ceiling and node.value >= floor):\n",
    "        data[\"sum\"] += node.value\n",
    "    \n",
    "    if node.value <= ceiling:\n",
    "        helper(node.right, range_, data)\n",
    "\n",
    "    if node.value > floor:\n",
    "        helper(node.left, range_, data)\n",
    "\n",
    "    return data\n",
    "\n",
    "#           [2,5]\n",
    "#               6 > 2\n",
    "#             /   \\\n",
    "#            1      8\n",
    "#           / \\    / \\\n",
    "#          3   5   7   9\n",
    "#         /\n",
    "#        2"
   ]
  }
 ],
 "metadata": {
  "kernelspec": {
   "display_name": "python3.9",
   "language": "python",
   "name": "python3.9"
  },
  "language_info": {
   "codemirror_mode": {
    "name": "ipython",
    "version": 3
   },
   "file_extension": ".py",
   "mimetype": "text/x-python",
   "name": "python",
   "nbconvert_exporter": "python",
   "pygments_lexer": "ipython3",
   "version": "3.9.2"
  }
 },
 "nbformat": 4,
 "nbformat_minor": 5
}
