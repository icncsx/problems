{
 "cells": [
  {
   "cell_type": "code",
   "execution_count": 133,
   "id": "15434845",
   "metadata": {},
   "outputs": [
    {
     "data": {
      "text/plain": [
       "[[6, 4, 7, -1], [6, 1, 7, 2]]"
      ]
     },
     "execution_count": 133,
     "metadata": {},
     "output_type": "execute_result"
    }
   ],
   "source": [
    "def is_unique(*args):\n",
    "    return len(set([*args])) == len(args)\n",
    "\n",
    "def four_number_sum(arr: list[int], target_sum):\n",
    "    '''\n",
    "    more intuitive but dirty to say the least...\n",
    "    '''\n",
    "    \n",
    "    quadruplets = []\n",
    "    pair_sums = {}\n",
    "    \n",
    "    for idx in range(0, len(arr)-1):\n",
    "        for idx_ in range(idx+1, len(arr)):\n",
    "            sum_ = arr[idx] + arr[idx_]\n",
    "            if sum_ in pair_sums:\n",
    "                pair_sums[sum_].append([idx, idx_])\n",
    "            else:\n",
    "                pair_sums[sum_] = [[idx, idx_]]\n",
    "                \n",
    "    idxs_seen = set()\n",
    "        \n",
    "    tbd = set()\n",
    "    \n",
    "    for pair in pair_sums:\n",
    "        diff = target_sum - pair\n",
    "        \n",
    "        if pair in tbd:\n",
    "            \n",
    "            for pairs in pair_sums[pair]:\n",
    "                for pairs_ in pair_sums[diff]:\n",
    "                    idxs = \",\".join(map(lambda x: str(x), sorted([*pairs, *pairs_])))\n",
    "                    if is_unique(*pairs, *pairs_) and (idxs not in idxs_seen):\n",
    "                        quadruplets.append([*list(map(arr.__getitem__, pairs)), *list(map(arr.__getitem__, pairs_))])\n",
    "                        \n",
    "                    idxs_seen.add(idxs)\n",
    "        \n",
    "        tbd.add(diff)\n",
    "        \n",
    "    return quadruplets\n",
    "\n",
    "\n",
    "four_number_sum([7,6,4,-1,1,2], 16)"
   ]
  },
  {
   "cell_type": "code",
   "execution_count": 139,
   "id": "bc17cc4a",
   "metadata": {},
   "outputs": [],
   "source": [
    "def four_number_sum(arr: list[int], target_sum):\n",
    "    '''\n",
    "    '''\n",
    "    \n",
    "    quadruplets = []\n",
    "    pair_sums = {}\n",
    "    \n",
    "    for idx in range(0, len(arr)-1):\n",
    "        \n",
    "        for right in range(idx+1, len(arr)):\n",
    "            '''\n",
    "            check pair_sums\n",
    "            '''\n",
    "            current_sum = arr[idx] + arr[right] # 1 + 2 = 3\n",
    "            diff = target_sum - current_sum # 16 - 3 = 13\n",
    "            if diff in pair_sums:\n",
    "                for pair in pair_sums[diff]:\n",
    "                    quadruplets.append(pair + [arr[idx], arr[right]] )\n",
    "                    \n",
    "        for left in range(0, idx):\n",
    "            '''\n",
    "            add to pair_sums\n",
    "            '''\n",
    "            current_sum = arr[idx] + arr[left]\n",
    "            if current_sum not in pair_sums:\n",
    "                pair_sums[current_sum] = [[arr[idx], arr[left]]]\n",
    "            else:\n",
    "                pair_sums[current_sum].append([arr[idx], arr[left]])\n",
    "                \n",
    "        \n",
    "    print(pair_sums)\n",
    "                \n",
    "    return quadruplets"
   ]
  },
  {
   "cell_type": "code",
   "execution_count": 140,
   "id": "9313fe8d",
   "metadata": {},
   "outputs": [
    {
     "name": "stdout",
     "output_type": "stream",
     "text": [
      "{3: [[2, 1]], 4: [[3, 1]], 5: [[3, 2], [4, 1]], 6: [[4, 2]], 7: [[4, 3]]}\n"
     ]
    },
    {
     "data": {
      "text/plain": [
       "[[2, 1, 4, 5]]"
      ]
     },
     "execution_count": 140,
     "metadata": {},
     "output_type": "execute_result"
    }
   ],
   "source": [
    "four_number_sum([1,2,3,4,5], 12)"
   ]
  },
  {
   "cell_type": "code",
   "execution_count": 91,
   "id": "a07c3acb",
   "metadata": {},
   "outputs": [
    {
     "data": {
      "text/plain": [
       "[[6, 7, 4, -1], [6, 7, 1, 2]]"
      ]
     },
     "execution_count": 91,
     "metadata": {},
     "output_type": "execute_result"
    }
   ],
   "source": [
    "four_number_sum([7,6,4,-1,1,2], 16)"
   ]
  },
  {
   "cell_type": "code",
   "execution_count": 93,
   "id": "b94df006",
   "metadata": {},
   "outputs": [
    {
     "data": {
      "text/plain": [
       "[[3, 2, 5, 6], [4, 1, 5, 6]]"
      ]
     },
     "execution_count": 93,
     "metadata": {},
     "output_type": "execute_result"
    }
   ],
   "source": [
    "four_number_sum([1,2,3,4,5,6], 16)"
   ]
  }
 ],
 "metadata": {
  "kernelspec": {
   "display_name": "python3.9",
   "language": "python",
   "name": "python3.9"
  },
  "language_info": {
   "codemirror_mode": {
    "name": "ipython",
    "version": 3
   },
   "file_extension": ".py",
   "mimetype": "text/x-python",
   "name": "python",
   "nbconvert_exporter": "python",
   "pygments_lexer": "ipython3",
   "version": "3.9.2"
  }
 },
 "nbformat": 4,
 "nbformat_minor": 5
}
