{
 "cells": [
  {
   "cell_type": "code",
   "execution_count": 8,
   "id": "85ee1238",
   "metadata": {},
   "outputs": [],
   "source": [
    "def col_in_bounds(arr: list[list], col_idx: int):\n",
    "    return (col_idx >=0 and col_idx <= len(arr[0])-1)    \n",
    "\n",
    "def row_in_bounds(arr: list[list], row_idx: int):\n",
    "    return (row_idx >= 0 and row_idx <= len(arr)-1)\n",
    "\n",
    "def in_bounds(arr: list[list], row_idx: int, col_idx: int) -> bool:\n",
    "    return col_in_bounds(arr, col_idx) and row_in_bounds(arr, row_idx)\n",
    "\n",
    "def traverse_a_diagonal(arr: list[list], row_idx: int, col_idx: int) -> None:\n",
    "    while in_bounds(arr, row_idx, col_idx):\n",
    "        print(arr[row_idx][col_idx])\n",
    "        row_idx += 1\n",
    "        col_idx -= 1\n",
    "\n",
    "def diagonal_traverse(arr: list[list]) -> None:\n",
    "    \n",
    "    row_idx = 0\n",
    "    col_idx = 0\n",
    "    \n",
    "    while in_bounds(arr, row_idx, col_idx):\n",
    "        traverse_a_diagonal(arr, row_idx, col_idx)\n",
    "        \n",
    "        if col_idx == len(arr[0])-1:\n",
    "            row_idx += 1\n",
    "        else:\n",
    "            col_idx += 1"
   ]
  },
  {
   "cell_type": "code",
   "execution_count": 9,
   "id": "28d5534f",
   "metadata": {},
   "outputs": [
    {
     "name": "stdout",
     "output_type": "stream",
     "text": [
      "9\n",
      "3\n",
      "8\n",
      "2\n",
      "6\n",
      "5\n",
      "1\n",
      "5\n",
      "1\n",
      "6\n",
      "2\n",
      "8\n"
     ]
    }
   ],
   "source": [
    "diagonal_traverse(\n",
    "[[9, 3, 2],\n",
    " [8, 6, 1],\n",
    " [5, 5, 6],\n",
    " [1, 2, 8]]\n",
    ")            "
   ]
  }
 ],
 "metadata": {
  "kernelspec": {
   "display_name": "python3.9",
   "language": "python",
   "name": "python3.9"
  },
  "language_info": {
   "codemirror_mode": {
    "name": "ipython",
    "version": 3
   },
   "file_extension": ".py",
   "mimetype": "text/x-python",
   "name": "python",
   "nbconvert_exporter": "python",
   "pygments_lexer": "ipython3",
   "version": "3.9.2"
  }
 },
 "nbformat": 4,
 "nbformat_minor": 5
}
