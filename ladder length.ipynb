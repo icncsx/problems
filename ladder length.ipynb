{
 "cells": [
  {
   "cell_type": "code",
   "execution_count": 1,
   "id": "7a3f2166",
   "metadata": {},
   "outputs": [
    {
     "name": "stdout",
     "output_type": "stream",
     "text": [
      "5 cog\n"
     ]
    },
    {
     "data": {
      "text/plain": [
       "5"
      ]
     },
     "execution_count": 1,
     "metadata": {},
     "output_type": "execute_result"
    }
   ],
   "source": [
    "import string\n",
    "\n",
    "def ladderLength(beginWord, endWord, wordList):\n",
    "    \"\"\"\n",
    "    :type beginWord: str\n",
    "    :type endWord: str\n",
    "    :type wordList: List[str]\n",
    "    :rtype: int\n",
    "    APPROACH\n",
    "    Use breadth first search:\n",
    "    queue of stacks, where each stack is a word-ladder of a specific level, related to the length of the stack\n",
    "    level1: stack only has beginning word\n",
    "    level2: stack has beginning word and one word that differs from it by one character\n",
    "    \n",
    "    implementing stack as list\n",
    "    \n",
    "    queue.appendleft() --> enqueue\n",
    "    queue.pop() --> dequeue\n",
    "    \n",
    "    stack.append() --> push\n",
    "    stack.pop() --> pop\n",
    "    \"\"\"\n",
    "    seen = set()\n",
    "    \n",
    "    #initially: queue only contains one stack, with the beginWord\n",
    "    if beginWord == endWord:\n",
    "        return 1\n",
    "    \n",
    "    queue = [(1,beginWord)]\n",
    "    while len(queue) > 0:\n",
    "        top_len, top_word = queue.pop(0)            \n",
    "        if top_word == endWord:\n",
    "            print(top_len, top_word)\n",
    "            return top_len\n",
    "        \n",
    "        for i in range(len(top_word)):\n",
    "            for ch in string.ascii_lowercase:\n",
    "                '''\n",
    "                abcdefghijklmnopqrstuvwxyz\n",
    "                '''\n",
    "                # get all words that differ from top word by one character, create new stacks for them and add to the queue\n",
    "                new_word = top_word[:i] + ch + top_word[i+1:]\n",
    "                if new_word not in wordList or new_word in seen:\n",
    "                    continue\n",
    "                seen.add(new_word)\n",
    "                queue.append((top_len+1, new_word))\n",
    "        \n",
    "    return 0\n",
    "\n",
    "ladderLength(\"hit\", \"cog\", { \"hot\", \"dot\", \"lot\", \"log\", \"cog\", \"dog\" })"
   ]
  },
  {
   "cell_type": "code",
   "execution_count": null,
   "id": "4fba4d99",
   "metadata": {},
   "outputs": [],
   "source": []
  }
 ],
 "metadata": {
  "kernelspec": {
   "display_name": "python3.9",
   "language": "python",
   "name": "python3.9"
  },
  "language_info": {
   "codemirror_mode": {
    "name": "ipython",
    "version": 3
   },
   "file_extension": ".py",
   "mimetype": "text/x-python",
   "name": "python",
   "nbconvert_exporter": "python",
   "pygments_lexer": "ipython3",
   "version": "3.9.2"
  }
 },
 "nbformat": 4,
 "nbformat_minor": 5
}
